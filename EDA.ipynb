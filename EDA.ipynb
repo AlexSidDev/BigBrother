{
 "cells": [
  {
   "cell_type": "code",
   "execution_count": 1,
   "id": "3c648478-ee1b-49ff-b4b7-dc1025132b21",
   "metadata": {},
   "outputs": [],
   "source": [
    "import pandas as pd\n",
    "import datasets\n",
    "import matplotlib.pyplot as plt\n",
    "from transformers import AutoTokenizer\n",
    "from backend.training.data_utils import create_dataset\n",
    "from functools import partial\n",
    "\n",
    "\n",
    "CACHE_DIR = 'data'"
   ]
  },
  {
   "cell_type": "markdown",
   "id": "1ca34f76",
   "metadata": {},
   "source": [
    "## About data"
   ]
  },
  {
   "cell_type": "markdown",
   "id": "f8215c2b",
   "metadata": {},
   "source": [
    "**Named Entity Recognition in Twitter: A Dataset and Analysis on Short-Term Temporal Shifts, AACL main conference 2022**\n",
    "\n",
    "NER dataset on Twitter with 7 entity labels. Each instance of TweetNER7 comes with a timestamp which distributes from September 2019 to August 2021.\n",
    "\n",
    "Entity Types: \n",
    "* corperation, \n",
    "* creative_work, \n",
    "* event, \n",
    "* group, \n",
    "* location, \n",
    "* product, \n",
    "* person"
   ]
  },
  {
   "cell_type": "markdown",
   "id": "7150313e-9b0a-4b25-80e6-9b16d6dbc9a2",
   "metadata": {},
   "source": [
    "## Loading datasets"
   ]
  },
  {
   "cell_type": "code",
   "execution_count": 2,
   "id": "cf9e80e5-1747-4cfe-bae0-e81ce4c5bfad",
   "metadata": {},
   "outputs": [],
   "source": [
    "all_datasets = datasets.load_dataset('tner/tweetner7', cache_dir=CACHE_DIR)\n",
    "train_dataset = all_datasets['train_all']\n",
    "val_dataset = datasets.concatenate_datasets([all_datasets[ 'validation_2020'], all_datasets['validation_2021']])\n",
    "test_dataset = datasets.concatenate_datasets([all_datasets['test_2020'], all_datasets['test_2021']])"
   ]
  },
  {
   "cell_type": "code",
   "execution_count": null,
   "id": "5b7b0d78-3cb0-41a4-a9d1-7bcfa2594920",
   "metadata": {},
   "outputs": [],
   "source": [
    "label_2_id = {\n",
    "                 \"B-corporation\": 0,\n",
    "                 \"B-creative_work\": 1,\n",
    "                 \"B-event\": 2,\n",
    "                 \"B-group\": 3,\n",
    "                 \"B-location\": 4,\n",
    "                 \"B-person\": 5,\n",
    "                 \"B-product\": 6,\n",
    "                 \"I-corporation\": 7,\n",
    "                 \"I-creative_work\": 8,\n",
    "                 \"I-event\": 9,\n",
    "                 \"I-group\": 10,\n",
    "                 \"I-location\": 11,\n",
    "                 \"I-person\": 12,\n",
    "                 \"I-product\": 13,\n",
    "                 \"O\": 14\n",
    "             }\n",
    "\n",
    "id_2_label = {v: k for k, v in label_2_id.items()}\n",
    "\n",
    "labels_list = ['corporation', 'creative_work', 'event', 'group', 'location', 'person', 'product']\n",
    "global_metrics = ['overall_precision', 'overall_recall', 'overall_f1', 'overall_accuracy']\n",
    "\n",
    "def to_bio(row, labels_mapping: dict):\n",
    "    bio_labels = []\n",
    "    for label in row['tags']:\n",
    "        bio_labels.append(labels_mapping[label])\n",
    "    row['bio_labels'] = bio_labels\n",
    "    return row\n",
    "\n",
    "converter_fn = partial(to_bio, labels_mapping={v: k for k, v in label_2_id.items()})\n",
    "train_dataset = train_dataset.map(converter_fn)\n",
    "val_dataset = val_dataset.map(converter_fn)\n",
    "test_dataset = test_dataset.map(converter_fn)"
   ]
  },
  {
   "cell_type": "markdown",
   "id": "70f779b5",
   "metadata": {},
   "source": [
    "## General Data Description"
   ]
  },
  {
   "cell_type": "markdown",
   "id": "129cf936",
   "metadata": {},
   "source": [
    "First, let's examine what texts and their annotation looks like"
   ]
  },
  {
   "cell_type": "code",
   "execution_count": null,
   "id": "22e02783",
   "metadata": {},
   "outputs": [],
   "source": [
    "num_examples = 5\n",
    "for document in range(num_examples):\n",
    "  # beginning = random.randint(0, len(train_data.tokens[document]) - 16)\n",
    "  beginning = 0\n",
    "  ending = beginning + 20\n",
    "\n",
    "  print(f'Document {document}, tokens from {beginning} to {ending}:')\n",
    "  print(\n",
    "      pd.DataFrame(\n",
    "          {\n",
    "              'tokens:': train_dataset[\"tokens\"][document][beginning:ending],\n",
    "              'tags:': list(map(lambda x: id_2_label[x], train_dataset[\"tags\"][document][beginning:ending])),\n",
    "          }\n",
    "      )\n",
    "      .transpose()\n",
    "      .to_string(index=True, header=False),\n",
    "      '\\n'\n",
    "  )"
   ]
  },
  {
   "cell_type": "markdown",
   "id": "65ef0433",
   "metadata": {},
   "source": [
    "To gain a better insight into the meaning of each category, let's draw a few examples:"
   ]
  },
  {
   "cell_type": "code",
   "execution_count": null,
   "id": "c5f7ece6",
   "metadata": {},
   "outputs": [],
   "source": [
    "train_df = pd.DataFrame(train_dataset)\n",
    "train_df['labels'] = train_df.tags.apply(lambda text: [id_2_label[token] for token in text])"
   ]
  },
  {
   "cell_type": "code",
   "execution_count": null,
   "id": "9020d530",
   "metadata": {},
   "outputs": [],
   "source": [
    "labels = set([\n",
    "    label.split('-')[-1]\n",
    "    for annot in train_df.labels\n",
    "    for label in annot\n",
    "]) - {'O'}\n",
    "\n",
    "\n",
    "def get_examples(label: str, num_examples: int):\n",
    "  examples = []\n",
    "  for document in range(0, train_df.shape[0]):\n",
    "    if len(examples) >= num_examples:\n",
    "      return examples\n",
    "    try:\n",
    "      beginning = train_df.labels[document].index(f'B-{label}')\n",
    "    except ValueError:\n",
    "      continue\n",
    "\n",
    "    example = train_df.tokens[document][beginning].strip()\n",
    "    for token_id in range(beginning + 1, len(train_df.tokens[document]) - 1):\n",
    "      if train_df.labels[document][token_id] == f'I-{label}':\n",
    "        example += ' ' + train_df.tokens[document][token_id].strip()\n",
    "    examples.append(example)\n",
    "\n",
    "  print(f'WARNING: could not find {num_examples} examples for label {label}, found {len(examples)} examples')\n",
    "  return examples\n",
    "\n",
    "\n",
    "label_examples = {}\n",
    "for label in labels:\n",
    "  label_examples[label] = get_examples(label=label, num_examples=10)"
   ]
  },
  {
   "cell_type": "code",
   "execution_count": null,
   "id": "629e90c5",
   "metadata": {},
   "outputs": [],
   "source": [
    "pd.DataFrame(dict([(k, pd.Series(v)) for k, v in label_examples.items()])).T"
   ]
  },
  {
   "cell_type": "markdown",
   "id": "df2c65f7",
   "metadata": {},
   "source": [
    "## Quantitative description"
   ]
  },
  {
   "cell_type": "markdown",
   "id": "7fbc4509",
   "metadata": {},
   "source": [
    "### Length distribution"
   ]
  },
  {
   "cell_type": "code",
   "execution_count": null,
   "id": "dc60823e",
   "metadata": {},
   "outputs": [],
   "source": [
    "train_df.tokens.apply(len).plot.hist(title='Length distribution', xlabel='tokens', ylabel='Quantity', bins=100);"
   ]
  },
  {
   "cell_type": "code",
   "execution_count": null,
   "id": "c0803b32",
   "metadata": {},
   "outputs": [],
   "source": [
    "train_df[\"labels\"] = train_df.labels.apply(lambda text: [i.split('-')[-1] if not i == 'O' else i for i in text])"
   ]
  },
  {
   "cell_type": "code",
   "execution_count": null,
   "id": "2199c6f8",
   "metadata": {},
   "outputs": [],
   "source": [
    "from collections import defaultdict\n",
    "\n",
    "def extract_entities(tokens, labels):\n",
    "    entities = defaultdict(list)\n",
    "    current_entity = []\n",
    "    current_label = None\n",
    "\n",
    "    for token, label in zip(tokens, labels):\n",
    "        if label != 'O':\n",
    "            if not current_entity or label != current_label:\n",
    "                if current_entity:\n",
    "                    entities[current_label].append(len(current_entity))\n",
    "                current_entity = [token]\n",
    "                current_label = label\n",
    "            else:\n",
    "                current_entity.append(token)\n",
    "        else:\n",
    "            if current_entity:\n",
    "                entities[current_label].append(len(current_entity))\n",
    "                current_entity = []\n",
    "                current_label = None\n",
    "\n",
    "    if current_entity:\n",
    "        entities[current_label].append(len(current_entity))\n",
    "\n",
    "    return entities\n",
    "\n",
    "all_entities = defaultdict(list)\n",
    "for _, row in train_df.iterrows():\n",
    "    entities = extract_entities(row['tokens'], row['labels'])\n",
    "    for entity_type, lengths in entities.items():\n",
    "        all_entities[entity_type].extend(lengths)\n",
    "\n",
    "\n",
    "num_categories = len(all_entities)\n",
    "fig, axes = plt.subplots(nrows=num_categories, ncols=1, figsize=(10, 1.5 * num_categories), sharex=True)\n",
    "\n",
    "for ax, (entity_type, lengths) in zip(axes, all_entities.items()):\n",
    "    ax.hist(lengths, bins=range(1, max(lengths)+2), alpha=0.7, edgecolor='black')\n",
    "    ax.set_title(entity_type)\n",
    "    ax.set_xlabel('Entity Length')\n",
    "    ax.set_ylabel('Frequency')\n",
    "\n",
    "fig.suptitle('NER length distribution in tokens over categories')\n",
    "plt.tight_layout()\n",
    "plt.show()"
   ]
  },
  {
   "cell_type": "markdown",
   "id": "723ff71b",
   "metadata": {},
   "source": [
    "Longer entities typically tend to be events and creative work. On the contrary, \"corporation\" and \"location\" categories less often have big number of tokens."
   ]
  },
  {
   "cell_type": "markdown",
   "id": "5d2d4797",
   "metadata": {},
   "source": [
    "### How many tokens belong to NER?"
   ]
  },
  {
   "cell_type": "code",
   "execution_count": null,
   "id": "4a24a0d9",
   "metadata": {},
   "outputs": [],
   "source": [
    "\n",
    "non_pii_count = train_df.labels.apply(lambda x: x.count('O'))\n",
    "pii_count = train_df.labels.apply(len) - non_pii_count\n",
    "pii_ratio = pii_count / train_df.labels.apply(len)\n",
    "\n",
    "\n",
    "fig, axes = plt.subplots(1, 3, figsize=(25, 5))\n",
    "axes[0].hist(pii_count)\n",
    "axes[0].set_title('Entity occurrence distribution')\n",
    "axes[0].set_ylabel('Number of Entity')\n",
    "\n",
    "axes[1].hist(pii_ratio)\n",
    "axes[1].set_title('Entity ratio distribution')\n",
    "axes[1].set_ylabel('|Entity| : |tokens|')\n",
    "\n",
    "axes[2].scatter(train_df.labels.apply(len), pii_count)\n",
    "axes[2].set_title('Sentence length vs Entity number')\n",
    "axes[2].set_ylabel('|Entity|')\n",
    "axes[2].set_ylabel('|tokens|')\n",
    "\n",
    "plt.show()"
   ]
  },
  {
   "cell_type": "code",
   "execution_count": null,
   "id": "33103df0",
   "metadata": {},
   "outputs": [],
   "source": [
    "import numpy as np\n",
    "\n",
    "print('Среднее количество сущностей в тексте:', pii_count.mean(), 'Максимальное количество: ', pii_count.max())\n",
    "print('Коэффициент корреляции длины и кол-ва NE:', np.corrcoef(pii_count, train_df.labels.apply(len))[0, 1])"
   ]
  },
  {
   "cell_type": "markdown",
   "id": "53b5ff1f",
   "metadata": {},
   "source": [
    "In about half of the cases, entities make up about half of all tokens. \n",
    "\n",
    "Expectedly, the longer the text, the more entities it may contain. However, after a certain length threshold (around 15 tokens), the rate of NER ratio increase slows down. "
   ]
  },
  {
   "cell_type": "markdown",
   "id": "f7b6e7d6-44fd-4fd9-8855-01f5717266a6",
   "metadata": {},
   "source": [
    "### Categories distribution"
   ]
  },
  {
   "cell_type": "code",
   "execution_count": null,
   "id": "ef30d6cd-0b27-430f-a663-6acfdf9f8c2d",
   "metadata": {},
   "outputs": [],
   "source": [
    "id_2_label = {v: k.split('-')[-1] for k, v in label_2_id.items() if k.startswith('B')}\n",
    "\n",
    "def plot_categ_distribution(data, ax, title):\n",
    "    labels_dict = dict(zip(labels_list, [0] * len(labels_list)))\n",
    "\n",
    "    def count_labels(row):\n",
    "        for token in row['tags']:\n",
    "            if token in id_2_label:\n",
    "                labels_dict[id_2_label[token]] += 1\n",
    "\n",
    "    data.map(count_labels)\n",
    "    ax.bar(labels_dict.keys(), labels_dict.values())\n",
    "    ax.set_title(title)"
   ]
  },
  {
   "cell_type": "code",
   "execution_count": null,
   "id": "ce6b3c5d-546f-4d79-898e-2cede9bd7a63",
   "metadata": {},
   "outputs": [],
   "source": [
    "fig, axes = plt.subplots(3, 1, figsize=(10, 15))\n",
    "\n",
    "plot_categ_distribution(train_dataset, axes[0], 'Train')\n",
    "plot_categ_distribution(val_dataset, axes[1], 'Val')\n",
    "plot_categ_distribution(test_dataset, axes[2], 'Test')"
   ]
  },
  {
   "cell_type": "markdown",
   "id": "06cd6697-7d9c-4d5e-86a5-f85b393f4191",
   "metadata": {},
   "source": [
    "As we can see, distribution of categories imbalanced, but equal for all data subsets."
   ]
  },
  {
   "cell_type": "markdown",
   "id": "30ae69c3",
   "metadata": {},
   "source": [
    "### Which entities tend to co-occur more often?"
   ]
  },
  {
   "cell_type": "code",
   "execution_count": null,
   "id": "7e1a9610",
   "metadata": {},
   "outputs": [],
   "source": [
    "import seaborn as sns\n",
    "from tqdm import tqdm\n",
    "\n",
    "categories = list(labels)\n",
    "\n",
    "\n",
    "def plot_cooccurrence(data: pd.DataFrame) -> None:\n",
    "    co_occurrence = pd.DataFrame(0, index=categories, columns=categories)\n",
    "\n",
    "    for _, row in tqdm(data.iterrows()):\n",
    "        sentence_labels = set(label.split('-')[-1] for label in row['labels'] if label != 'O')\n",
    "        for cat1 in sentence_labels:\n",
    "            for cat2 in sentence_labels:\n",
    "                if cat1 == cat2:\n",
    "                    continue\n",
    "                if cat1 in categories and cat2 in categories:\n",
    "                    co_occurrence.loc[cat1, cat2] += 1\n",
    "\n",
    "    plt.figure(figsize=(8, 6))\n",
    "    sns.heatmap(co_occurrence, annot=True, cmap=\"YlGnBu\", fmt=\"d\", square=True,\n",
    "                cbar_kws={'label': 'Number of Co-occurrences'}, linewidths=0.5)\n",
    "    plt.title(\"NER Category Co-occurrence Heatmap\", fontsize=16)\n",
    "    plt.xlabel(\"NER Category\", fontsize=14)\n",
    "    plt.ylabel(\"NER Category\", fontsize=14)\n",
    "    plt.tight_layout()\n",
    "    plt.show()\n",
    "\n",
    "plot_cooccurrence(train_df)"
   ]
  },
  {
   "cell_type": "markdown",
   "id": "99054a87",
   "metadata": {},
   "source": [
    "We see that \"person\" often co-occurs with \"group\" and \"events\", and a little less often with \"product\".\n",
    "\"Creative work\" and \"location\" rarely ever meet in the same text. "
   ]
  },
  {
   "cell_type": "markdown",
   "id": "95ba3907",
   "metadata": {},
   "source": [
    "### POS description"
   ]
  },
  {
   "cell_type": "code",
   "execution_count": null,
   "id": "b20c12fd",
   "metadata": {},
   "outputs": [],
   "source": [
    "import spacy\n",
    "from spacy.tokens import Doc\n",
    "\n",
    "nlp = spacy.load(\"en_core_web_sm\")\n",
    "\n",
    "docs = train_df.tokens.apply(lambda tokens: nlp(Doc(nlp.vocab, tokens)))"
   ]
  },
  {
   "cell_type": "code",
   "execution_count": null,
   "id": "cb23fb20",
   "metadata": {},
   "outputs": [],
   "source": [
    "from collections import defaultdict\n",
    "import seaborn as sns\n",
    "\n",
    "def extract_pos_distribution(data: pd.DataFrame,\n",
    "                             preds: list[spacy.tokens.Doc]) -> defaultdict:\n",
    "  pos_distribution = defaultdict(lambda: defaultdict(int))\n",
    "  pos_tags = [[token.pos_ for token in document] for document in preds]\n",
    "  for idx, row in data.iterrows():\n",
    "      for token, label, pos in zip(row['tokens'], row['labels'], pos_tags[idx]):\n",
    "          if label != 'O':\n",
    "              entity_type = label.split('-')[-1]\n",
    "              pos_distribution[entity_type][pos] += 1\n",
    "\n",
    "  return pos_distribution\n",
    "\n",
    "\n",
    "def visualize_pos_distribution(pos_distribution: defaultdict) -> None:\n",
    "  pos_df = pd.DataFrame(pos_distribution).fillna(0).T.astype(int)\n",
    "  plt.figure(figsize=(14, 10))\n",
    "  sns.heatmap(pos_df, annot=True, fmt=\"d\", cmap=\"Blues\",\n",
    "              cbar_kws={'label': 'Frequency'}, linewidths=0.5,\n",
    "              annot_kws={\"size\": 10})\n",
    "\n",
    "  plt.title(\"PoS Distribution for each NER Category\", fontsize=16)\n",
    "  plt.ylabel(\"NER Categories\", fontsize=14)\n",
    "  plt.xlabel(\"POS Tags\", fontsize=14)\n",
    "  plt.xticks(rotation=45, fontsize=12)\n",
    "  plt.yticks(fontsize=12)\n",
    "  plt.tight_layout()\n",
    "  plt.show()"
   ]
  },
  {
   "cell_type": "code",
   "execution_count": null,
   "id": "5d9ae2b7",
   "metadata": {},
   "outputs": [],
   "source": [
    "train_pos_distr = extract_pos_distribution(train_df, docs)\n",
    "visualize_pos_distribution(train_pos_distr)"
   ]
  },
  {
   "cell_type": "markdown",
   "id": "881ffb42",
   "metadata": {},
   "source": [
    "The vast majority of named entities have proper nouns in them, but it is especially prominent in NERs of the type \"person\". Second most common across all categories part of speech is noun.\n",
    "Punctuation is more often present in \"person\" entities. Aspositions and articles can me a marker for creative work."
   ]
  },
  {
   "cell_type": "markdown",
   "id": "9391d6f6-051a-47f3-8635-8cd60afff894",
   "metadata": {},
   "source": [
    "## Model training"
   ]
  },
  {
   "cell_type": "code",
   "execution_count": null,
   "id": "44434b71-54b2-4ac2-9141-7e5997686344",
   "metadata": {},
   "outputs": [],
   "source": [
    "import evaluate\n",
    "from easydict import EasyDict\n",
    "\n",
    "from backend.model_utils import create_model\n",
    "from backend.training.data_utils import create_dataset, DataCollator, NERDataset\n",
    "from backend.training.training_utils import Trainer\n",
    "from backend.training.validation_utils import inference\n",
    "\n",
    "import os\n",
    "\n",
    "from transformers import AutoTokenizer, get_linear_schedule_with_warmup\n",
    "import torch\n",
    "from torch.utils.data import DataLoader\n",
    "from torch.optim import AdamW\n",
    "\n",
    "\n",
    "torch.manual_seed(0)\n",
    "device = 'cuda' if torch.cuda.is_available() else 'cpu'"
   ]
  },
  {
   "cell_type": "markdown",
   "id": "ff5be500-67b2-4e18-a4a9-cd9b2b9056a8",
   "metadata": {},
   "source": [
    "### Модификация токенизации\n",
    "#### В датасете ссылки и неизвестные юзернеймы помечены специальными токенами {{URL}} и {{USERNAME}}. Известные юзернеймы помечены токенами {@ и @} в начале и в конце. Добавим эти новые токены в модель, для того, чтобы она считала их отдельными смысловыми единицами."
   ]
  },
  {
   "cell_type": "code",
   "execution_count": null,
   "id": "07bc6e04-07fb-4001-8c4a-91fc8569c85e",
   "metadata": {},
   "outputs": [],
   "source": [
    "def get_model_and_tokenizer(model_name: str, extra_labels=None):\n",
    "    model = create_model(model_name, label_2_id, extra_labels)\n",
    "    tokenizer = AutoTokenizer.from_pretrained(model_name, trust_remote_code=True, clean_up_tokenization_spaces=False)\n",
    "    tokenizer.add_tokens([\"{{URL}}\", \"{{USERNAME}}\", \"{@\", \"@}\"])\n",
    "    model.resize_token_embeddings(len(tokenizer))\n",
    "    return model, tokenizer"
   ]
  },
  {
   "cell_type": "markdown",
   "id": "abfe64ef-3c77-431d-be96-803580803203",
   "metadata": {},
   "source": [
    "#### Код обучения и инференса"
   ]
  },
  {
   "cell_type": "code",
   "execution_count": null,
   "id": "c0b6fe14-85bf-4f92-b5de-ef87d761aba7",
   "metadata": {},
   "outputs": [],
   "source": [
    "all_experiments = {}\n",
    "\n",
    "def plot_loss(losses: list, val_losses: list, save_path):\n",
    "    fig, axes = plt.subplots(1, 2, figsize=(10, 5))\n",
    "    epochs = list(range(1, len(losses) + 1))\n",
    "    axes[0].plot(epochs, losses)\n",
    "    axes[0].set_xlabel('Epoch')\n",
    "    axes[0].set_ylabel('Training Loss')\n",
    "\n",
    "    val_every = len(losses) // len(val_losses)\n",
    "    axes[1].plot(epochs[val_every - 1::val_every], val_losses)\n",
    "    axes[1].set_xlabel('Epoch')\n",
    "    axes[1].set_ylabel('Validation Loss')\n",
    "    plt.savefig(os.path.join(save_path, 'losses.png'))\n",
    "\n",
    "def calculate_metrics(predictions: list[str], labels: list[str]):\n",
    "    metric = evaluate.load(\"seqeval\")\n",
    "    predictions_adj = [predictions[i] for i in range(len(predictions)) if len(predictions[i]) == len(labels[i])]\n",
    "    labels_adj = [labels[i] for i in range(len(labels)) if len(predictions[i]) == len(labels[i])]\n",
    "    metrics = metric.compute(predictions=list(predictions_adj), references=labels_adj)\n",
    "    metrics_class = {k: metrics[k] for k in labels_list}\n",
    "    metrics_global = {k: metrics[k] for k in global_metrics}\n",
    "    print(pd.DataFrame(metrics_class), '\\n')\n",
    "    print(pd.DataFrame([metrics_global], columns=list(metrics_global.keys()), index=['Value']))\n",
    "    return metrics_class, metrics_global\n",
    "\n",
    "def create_datasets(tokenizer, save_path):\n",
    "    os.makedirs(os.path.join(CACHE_DIR, save_path), exist_ok=True)\n",
    "    train_dataset_tokenized = create_dataset(train_dataset, os.path.join(CACHE_DIR, save_path, 'train_all_tokenized.csv'), tokenizer, max_len=128)\n",
    "    val_dataset_tokenized = create_dataset(val_dataset, os.path.join(CACHE_DIR, save_path, 'val_all_tokenized.csv'), tokenizer, max_len=128)\n",
    "    return train_dataset_tokenized, val_dataset_tokenized\n",
    "    \n",
    "def get_dataloaders(tokenizer, train_ner_dataset, val_ner_dataset):\n",
    "    collator = DataCollator(token_pad_id=tokenizer.pad_token_id)\n",
    "    train_dataloader = DataLoader(train_ner_dataset, batch_size=32, shuffle=True, collate_fn=collator, drop_last=True)\n",
    "    val_dataloader = DataLoader(val_ner_dataset, batch_size=64, shuffle=False, collate_fn=collator, drop_last=False)\n",
    "    return train_dataloader, val_dataloader\n",
    "\n",
    "def train(model, train_dataloader, val_dataloader, save_path, training_args):\n",
    "    optimizer = AdamW(model.parameters(), lr=training_args.lr, weight_decay=training_args.weight_decay)\n",
    "\n",
    "    warmup_steps =  training_args.warmup_ratio * training_args.epochs * len(train_dataloader)\n",
    "    scheduler = training_args.scheduler_fn(optimizer, warmup_steps, training_args.epochs * len(train_dataloader))\n",
    "    \n",
    "    trainer = Trainer(model, optimizer, train_dataloader, val_dataloader,\n",
    "                      device=device, scheduler=scheduler, loss_weights=training_args.get('loss_weights', None))\n",
    "    \n",
    "    losses, val_losses  = trainer.train(training_args.epochs, save_path, val_every=1)\n",
    "    return losses, val_losses\n",
    "\n",
    "def infer_model(model, tokenizer, val_ner_dataset, word_inds):\n",
    "    collator = DataCollator(token_pad_id=tokenizer.pad_token_id)\n",
    "    val_dataloader = DataLoader(val_ner_dataset, batch_size=1, shuffle=False, collate_fn=collator, drop_last=False)\n",
    "    model_preds = inference(model, val_dataloader, word_inds, {v: k for k, v in label_2_id.items()}, device=device)\n",
    "    return model_preds\n",
    "\n",
    "def run_experiment(model_name: str, save_path: str, training_args: EasyDict):\n",
    "    model, tokenizer = get_model_and_tokenizer(model_name)\n",
    "    \n",
    "    train_dataset_tokenized, val_dataset_tokenized = create_datasets(tokenizer, save_path)\n",
    "    train_ner_dataset = NERDataset(train_dataset_tokenized)\n",
    "    val_ner_dataset = NERDataset(val_dataset_tokenized)\n",
    "    train_dataloader, val_dataloader = get_dataloaders(tokenizer, train_ner_dataset, val_ner_dataset)\n",
    "    \n",
    "    losses, val_losses = train(model, train_dataloader, val_dataloader, save_path, training_args)\n",
    "    all_experiments[save_path] = (losses, val_losses)\n",
    "    plot_loss(losses, val_losses, os.path.join('checkpoints', save_path))\n",
    "    \n",
    "    best_model = torch.load(os.path.join('checkpoints', save_path, 'best_model.pth'), weights_only=False).to(device).eval()\n",
    "    model_preds = infer_model(best_model, tokenizer, val_ner_dataset, val_dataset_tokenized['word_inds'])\n",
    "    metrics_class, metrics_global = calculate_metrics(model_preds, val_dataset['bio_labels'])\n",
    "    \n",
    "    return metrics_class, metrics_global"
   ]
  },
  {
   "cell_type": "markdown",
   "id": "c3b72f58-9afa-4ed6-a841-d1feb52129cd",
   "metadata": {},
   "source": [
    "### Model and hyperparameters search"
   ]
  },
  {
   "cell_type": "markdown",
   "id": "df9dfda6-cc2d-400d-a924-0d572e8a19cd",
   "metadata": {},
   "source": [
    "#### В качестве моделей для экспериментов были выбраны 2 трансформера \"google-bert/bert-base-cased\" и \"distilbert/distilbert-base-cased\", где \"cased\" значит, что заглавные и прописные буквы представлены в модели разными токенами. Это обусловлено спецификой задачи NER, ведь заглавная буква часто является признаком именованной сущности. Первая модель имеет большее количество параметров и более долгое время инференса. Вторая - дистилированная версия первой, она менее тяжёлая и более бытсрая, но показывает сопоставимые результаты на популярных бенчмарках."
   ]
  },
  {
   "cell_type": "code",
   "execution_count": 19,
   "id": "fdd56e26-a408-4102-947e-6ae037ceda6e",
   "metadata": {},
   "outputs": [],
   "source": [
    "train_args = EasyDict({'lr': 2e-5, 'weight_decay': 1e-07, 'epochs': 10, 'warmup_ratio': 0.0, 'scheduler_fn': get_linear_schedule_with_warmup})"
   ]
  },
  {
   "cell_type": "markdown",
   "id": "eef2ef0f-52af-4ed3-9ef5-c5934b8d2647",
   "metadata": {},
   "source": [
    "#### Попробуем обучить обе модели со стандартными гиперпараметрами для token classification, взятыми из туториала с huggingface."
   ]
  },
  {
   "cell_type": "code",
   "execution_count": 20,
   "id": "770e583a-41d8-48c9-a4fe-65435b776910",
   "metadata": {},
   "outputs": [
    {
     "name": "stderr",
     "output_type": "stream",
     "text": [
      "Some weights of BertForTokenClassification were not initialized from the model checkpoint at google-bert/bert-base-cased and are newly initialized: ['classifier.bias', 'classifier.weight']\n",
      "You should probably TRAIN this model on a down-stream task to be able to use it for predictions and inference.\n",
      "The new embeddings will be initialized from a multivariate normal distribution that has old embeddings' mean and covariance. As described in this article: https://nlp.stanford.edu/~johnhew/vocab-expansion.html. To disable this, use `mean_resizing=False`\n"
     ]
    },
    {
     "name": "stdout",
     "output_type": "stream",
     "text": [
      "Found cached data in data\\bert_base_default_hp\\train_all_tokenized.csv\n",
      "Found cached data in data\\bert_base_default_hp\\val_all_tokenized.csv\n",
      "Start training\n"
     ]
    },
    {
     "name": "stderr",
     "output_type": "stream",
     "text": [
      "Training: 100%|██████████████████████████████████████████████████████████████████████████████████████████████████████████████████████████████████████████████████████████████████████████████████| 222/222 [00:25<00:00,  8.56it/s]\n"
     ]
    },
    {
     "name": "stdout",
     "output_type": "stream",
     "text": [
      "Epoch: 0, Mean loss: 0.7378909803994059\n"
     ]
    },
    {
     "name": "stderr",
     "output_type": "stream",
     "text": [
      "Validation: 100%|██████████████████████████████████████████████████████████████████████████████████████████████████████████████████████████████████████████████████████████████████████████████████| 14/14 [00:01<00:00, 13.52it/s]\n"
     ]
    },
    {
     "name": "stdout",
     "output_type": "stream",
     "text": [
      "Mean Val loss: 0.5141589045524597\n"
     ]
    },
    {
     "name": "stderr",
     "output_type": "stream",
     "text": [
      "Training: 100%|██████████████████████████████████████████████████████████████████████████████████████████████████████████████████████████████████████████████████████████████████████████████████| 222/222 [00:25<00:00,  8.72it/s]\n"
     ]
    },
    {
     "name": "stdout",
     "output_type": "stream",
     "text": [
      "Epoch: 1, Mean loss: 0.4688623311283351\n"
     ]
    },
    {
     "name": "stderr",
     "output_type": "stream",
     "text": [
      "Validation: 100%|██████████████████████████████████████████████████████████████████████████████████████████████████████████████████████████████████████████████████████████████████████████████████| 14/14 [00:01<00:00, 13.43it/s]\n"
     ]
    },
    {
     "name": "stdout",
     "output_type": "stream",
     "text": [
      "Mean Val loss: 0.47505722727094374\n"
     ]
    },
    {
     "name": "stderr",
     "output_type": "stream",
     "text": [
      "Training: 100%|██████████████████████████████████████████████████████████████████████████████████████████████████████████████████████████████████████████████████████████████████████████████████| 222/222 [00:25<00:00,  8.64it/s]\n"
     ]
    },
    {
     "name": "stdout",
     "output_type": "stream",
     "text": [
      "Epoch: 2, Mean loss: 0.3893063748339274\n"
     ]
    },
    {
     "name": "stderr",
     "output_type": "stream",
     "text": [
      "Validation: 100%|██████████████████████████████████████████████████████████████████████████████████████████████████████████████████████████████████████████████████████████████████████████████████| 14/14 [00:01<00:00, 13.29it/s]\n"
     ]
    },
    {
     "name": "stdout",
     "output_type": "stream",
     "text": [
      "Mean Val loss: 0.46255127659865775\n"
     ]
    },
    {
     "name": "stderr",
     "output_type": "stream",
     "text": [
      "Training: 100%|██████████████████████████████████████████████████████████████████████████████████████████████████████████████████████████████████████████████████████████████████████████████████| 222/222 [00:25<00:00,  8.66it/s]\n"
     ]
    },
    {
     "name": "stdout",
     "output_type": "stream",
     "text": [
      "Epoch: 3, Mean loss: 0.3342090904175699\n"
     ]
    },
    {
     "name": "stderr",
     "output_type": "stream",
     "text": [
      "Validation: 100%|██████████████████████████████████████████████████████████████████████████████████████████████████████████████████████████████████████████████████████████████████████████████████| 14/14 [00:01<00:00, 13.21it/s]\n"
     ]
    },
    {
     "name": "stdout",
     "output_type": "stream",
     "text": [
      "Mean Val loss: 0.478647659931864\n"
     ]
    },
    {
     "name": "stderr",
     "output_type": "stream",
     "text": [
      "Training: 100%|██████████████████████████████████████████████████████████████████████████████████████████████████████████████████████████████████████████████████████████████████████████████████| 222/222 [00:25<00:00,  8.58it/s]\n"
     ]
    },
    {
     "name": "stdout",
     "output_type": "stream",
     "text": [
      "Epoch: 4, Mean loss: 0.2911662335197132\n"
     ]
    },
    {
     "name": "stderr",
     "output_type": "stream",
     "text": [
      "Validation: 100%|██████████████████████████████████████████████████████████████████████████████████████████████████████████████████████████████████████████████████████████████████████████████████| 14/14 [00:01<00:00, 13.23it/s]\n"
     ]
    },
    {
     "name": "stdout",
     "output_type": "stream",
     "text": [
      "Mean Val loss: 0.4851938656398228\n"
     ]
    },
    {
     "name": "stderr",
     "output_type": "stream",
     "text": [
      "Training: 100%|██████████████████████████████████████████████████████████████████████████████████████████████████████████████████████████████████████████████████████████████████████████████████| 222/222 [00:25<00:00,  8.62it/s]\n"
     ]
    },
    {
     "name": "stdout",
     "output_type": "stream",
     "text": [
      "Epoch: 5, Mean loss: 0.25543043990661424\n"
     ]
    },
    {
     "name": "stderr",
     "output_type": "stream",
     "text": [
      "Validation: 100%|██████████████████████████████████████████████████████████████████████████████████████████████████████████████████████████████████████████████████████████████████████████████████| 14/14 [00:01<00:00, 13.18it/s]\n"
     ]
    },
    {
     "name": "stdout",
     "output_type": "stream",
     "text": [
      "Mean Val loss: 0.5019210257700512\n"
     ]
    },
    {
     "name": "stderr",
     "output_type": "stream",
     "text": [
      "Training: 100%|██████████████████████████████████████████████████████████████████████████████████████████████████████████████████████████████████████████████████████████████████████████████████| 222/222 [00:25<00:00,  8.60it/s]\n"
     ]
    },
    {
     "name": "stdout",
     "output_type": "stream",
     "text": [
      "Epoch: 6, Mean loss: 0.22723591106163488\n"
     ]
    },
    {
     "name": "stderr",
     "output_type": "stream",
     "text": [
      "Validation: 100%|██████████████████████████████████████████████████████████████████████████████████████████████████████████████████████████████████████████████████████████████████████████████████| 14/14 [00:01<00:00, 13.18it/s]\n"
     ]
    },
    {
     "name": "stdout",
     "output_type": "stream",
     "text": [
      "Mean Val loss: 0.5390461427824838\n"
     ]
    },
    {
     "name": "stderr",
     "output_type": "stream",
     "text": [
      "Training: 100%|██████████████████████████████████████████████████████████████████████████████████████████████████████████████████████████████████████████████████████████████████████████████████| 222/222 [00:25<00:00,  8.63it/s]\n"
     ]
    },
    {
     "name": "stdout",
     "output_type": "stream",
     "text": [
      "Epoch: 7, Mean loss: 0.20850062423998175\n"
     ]
    },
    {
     "name": "stderr",
     "output_type": "stream",
     "text": [
      "Validation: 100%|██████████████████████████████████████████████████████████████████████████████████████████████████████████████████████████████████████████████████████████████████████████████████| 14/14 [00:01<00:00, 13.17it/s]\n"
     ]
    },
    {
     "name": "stdout",
     "output_type": "stream",
     "text": [
      "Mean Val loss: 0.5386532970837185\n"
     ]
    },
    {
     "name": "stderr",
     "output_type": "stream",
     "text": [
      "Training: 100%|██████████████████████████████████████████████████████████████████████████████████████████████████████████████████████████████████████████████████████████████████████████████████| 222/222 [00:25<00:00,  8.63it/s]\n"
     ]
    },
    {
     "name": "stdout",
     "output_type": "stream",
     "text": [
      "Epoch: 8, Mean loss: 0.19370101066725748\n"
     ]
    },
    {
     "name": "stderr",
     "output_type": "stream",
     "text": [
      "Validation: 100%|██████████████████████████████████████████████████████████████████████████████████████████████████████████████████████████████████████████████████████████████████████████████████| 14/14 [00:01<00:00, 13.24it/s]\n"
     ]
    },
    {
     "name": "stdout",
     "output_type": "stream",
     "text": [
      "Mean Val loss: 0.5528455206326076\n"
     ]
    },
    {
     "name": "stderr",
     "output_type": "stream",
     "text": [
      "Training: 100%|██████████████████████████████████████████████████████████████████████████████████████████████████████████████████████████████████████████████████████████████████████████████████| 222/222 [00:25<00:00,  8.60it/s]\n"
     ]
    },
    {
     "name": "stdout",
     "output_type": "stream",
     "text": [
      "Epoch: 9, Mean loss: 0.1838764491247701\n"
     ]
    },
    {
     "name": "stderr",
     "output_type": "stream",
     "text": [
      "Validation: 100%|██████████████████████████████████████████████████████████████████████████████████████████████████████████████████████████████████████████████████████████████████████████████████| 14/14 [00:01<00:00, 13.14it/s]\n"
     ]
    },
    {
     "name": "stdout",
     "output_type": "stream",
     "text": [
      "Mean Val loss: 0.5559295309441431\n"
     ]
    },
    {
     "name": "stderr",
     "output_type": "stream",
     "text": [
      "100%|███████████████████████████████████████████████████████████████████████████████████████████████████████████████████████████████████████████████████████████████████████████████████████████| 886/886 [00:02<00:00, 353.77it/s]\n"
     ]
    },
    {
     "name": "stdout",
     "output_type": "stream",
     "text": [
      "           corporation  creative_work       event       group    location  \\\n",
      "precision     0.483776       0.391720    0.369898    0.562780    0.587591   \n",
      "recall        0.539474       0.436170    0.374677    0.552863    0.636364   \n",
      "f1            0.510109       0.412752    0.372272    0.557778    0.611006   \n",
      "number      304.000000     282.000000  387.000000  454.000000  253.000000   \n",
      "\n",
      "               person     product  \n",
      "precision    0.826531    0.655063  \n",
      "recall       0.827469    0.589744  \n",
      "f1           0.826999    0.620690  \n",
      "number     881.000000  351.000000   \n",
      "\n",
      "       overall_precision  overall_recall  overall_f1  overall_accuracy\n",
      "Value           0.600742        0.611264    0.605957          0.910532\n"
     ]
    },
    {
     "data": {
      "image/png": "[encoded data removed]",
      "text/plain": [
       "<Figure size 1000x500 with 2 Axes>"
      ]
     },
     "metadata": {},
     "output_type": "display_data"
    }
   ],
   "source": [
    "model_name = \"google-bert/bert-base-cased\"\n",
    "save_path = \"bert_base_default_hp\"\n",
    "\n",
    "metrics_class, metrics_global = run_experiment(model_name, save_path, train_args)"
   ]
  },
  {
   "cell_type": "code",
   "execution_count": 21,
   "id": "a79c4909-712a-49a7-a0b2-5ac7a5addb9b",
   "metadata": {},
   "outputs": [
    {
     "name": "stderr",
     "output_type": "stream",
     "text": [
      "Some weights of DistilBertForTokenClassification were not initialized from the model checkpoint at distilbert/distilbert-base-cased and are newly initialized: ['classifier.bias', 'classifier.weight']\n",
      "You should probably TRAIN this model on a down-stream task to be able to use it for predictions and inference.\n"
     ]
    },
    {
     "name": "stdout",
     "output_type": "stream",
     "text": [
      "Found cached data in data\\distillbert_base_default_hp\\train_all_tokenized.csv\n",
      "Found cached data in data\\distillbert_base_default_hp\\val_all_tokenized.csv\n",
      "Start training\n"
     ]
    },
    {
     "name": "stderr",
     "output_type": "stream",
     "text": [
      "Training: 100%|██████████████████████████████████████████████████████████████████████████████████████████████████████████████████████████████████████████████████████████████████████████████████| 222/222 [00:13<00:00, 16.62it/s]\n"
     ]
    },
    {
     "name": "stdout",
     "output_type": "stream",
     "text": [
      "Epoch: 0, Mean loss: 0.8205194328282331\n"
     ]
    },
    {
     "name": "stderr",
     "output_type": "stream",
     "text": [
      "Validation: 100%|██████████████████████████████████████████████████████████████████████████████████████████████████████████████████████████████████████████████████████████████████████████████████| 14/14 [00:00<00:00, 26.17it/s]\n"
     ]
    },
    {
     "name": "stdout",
     "output_type": "stream",
     "text": [
      "Mean Val loss: 0.5731511712074279\n"
     ]
    },
    {
     "name": "stderr",
     "output_type": "stream",
     "text": [
      "Training: 100%|██████████████████████████████████████████████████████████████████████████████████████████████████████████████████████████████████████████████████████████████████████████████████| 222/222 [00:13<00:00, 16.72it/s]\n"
     ]
    },
    {
     "name": "stdout",
     "output_type": "stream",
     "text": [
      "Epoch: 1, Mean loss: 0.5234161632823514\n"
     ]
    },
    {
     "name": "stderr",
     "output_type": "stream",
     "text": [
      "Validation: 100%|██████████████████████████████████████████████████████████████████████████████████████████████████████████████████████████████████████████████████████████████████████████████████| 14/14 [00:00<00:00, 25.61it/s]\n"
     ]
    },
    {
     "name": "stdout",
     "output_type": "stream",
     "text": [
      "Mean Val loss: 0.4982688277959824\n"
     ]
    },
    {
     "name": "stderr",
     "output_type": "stream",
     "text": [
      "Training: 100%|██████████████████████████████████████████████████████████████████████████████████████████████████████████████████████████████████████████████████████████████████████████████████| 222/222 [00:13<00:00, 16.77it/s]\n"
     ]
    },
    {
     "name": "stdout",
     "output_type": "stream",
     "text": [
      "Epoch: 2, Mean loss: 0.44184402369701126\n"
     ]
    },
    {
     "name": "stderr",
     "output_type": "stream",
     "text": [
      "Validation: 100%|██████████████████████████████████████████████████████████████████████████████████████████████████████████████████████████████████████████████████████████████████████████████████| 14/14 [00:00<00:00, 25.76it/s]\n"
     ]
    },
    {
     "name": "stdout",
     "output_type": "stream",
     "text": [
      "Mean Val loss: 0.48220228084496086\n"
     ]
    },
    {
     "name": "stderr",
     "output_type": "stream",
     "text": [
      "Training: 100%|██████████████████████████████████████████████████████████████████████████████████████████████████████████████████████████████████████████████████████████████████████████████████| 222/222 [00:13<00:00, 16.72it/s]\n"
     ]
    },
    {
     "name": "stdout",
     "output_type": "stream",
     "text": [
      "Epoch: 3, Mean loss: 0.3880550443186415\n"
     ]
    },
    {
     "name": "stderr",
     "output_type": "stream",
     "text": [
      "Validation: 100%|██████████████████████████████████████████████████████████████████████████████████████████████████████████████████████████████████████████████████████████████████████████████████| 14/14 [00:00<00:00, 25.98it/s]\n"
     ]
    },
    {
     "name": "stdout",
     "output_type": "stream",
     "text": [
      "Mean Val loss: 0.4783819445541928\n"
     ]
    },
    {
     "name": "stderr",
     "output_type": "stream",
     "text": [
      "Training: 100%|██████████████████████████████████████████████████████████████████████████████████████████████████████████████████████████████████████████████████████████████████████████████████| 222/222 [00:13<00:00, 16.81it/s]\n"
     ]
    },
    {
     "name": "stdout",
     "output_type": "stream",
     "text": [
      "Epoch: 4, Mean loss: 0.34732829765962075\n"
     ]
    },
    {
     "name": "stderr",
     "output_type": "stream",
     "text": [
      "Validation: 100%|██████████████████████████████████████████████████████████████████████████████████████████████████████████████████████████████████████████████████████████████████████████████████| 14/14 [00:00<00:00, 25.93it/s]\n"
     ]
    },
    {
     "name": "stdout",
     "output_type": "stream",
     "text": [
      "Mean Val loss: 0.4879264597381864\n"
     ]
    },
    {
     "name": "stderr",
     "output_type": "stream",
     "text": [
      "Training: 100%|██████████████████████████████████████████████████████████████████████████████████████████████████████████████████████████████████████████████████████████████████████████████████| 222/222 [00:13<00:00, 16.75it/s]\n"
     ]
    },
    {
     "name": "stdout",
     "output_type": "stream",
     "text": [
      "Epoch: 5, Mean loss: 0.3118341923565477\n"
     ]
    },
    {
     "name": "stderr",
     "output_type": "stream",
     "text": [
      "Validation: 100%|██████████████████████████████████████████████████████████████████████████████████████████████████████████████████████████████████████████████████████████████████████████████████| 14/14 [00:00<00:00, 25.76it/s]\n"
     ]
    },
    {
     "name": "stdout",
     "output_type": "stream",
     "text": [
      "Mean Val loss: 0.5002616537468774\n"
     ]
    },
    {
     "name": "stderr",
     "output_type": "stream",
     "text": [
      "Training: 100%|██████████████████████████████████████████████████████████████████████████████████████████████████████████████████████████████████████████████████████████████████████████████████| 222/222 [00:13<00:00, 16.79it/s]\n"
     ]
    },
    {
     "name": "stdout",
     "output_type": "stream",
     "text": [
      "Epoch: 6, Mean loss: 0.2853696170422408\n"
     ]
    },
    {
     "name": "stderr",
     "output_type": "stream",
     "text": [
      "Validation: 100%|██████████████████████████████████████████████████████████████████████████████████████████████████████████████████████████████████████████████████████████████████████████████████| 14/14 [00:00<00:00, 26.03it/s]\n"
     ]
    },
    {
     "name": "stdout",
     "output_type": "stream",
     "text": [
      "Mean Val loss: 0.5013638670955385\n"
     ]
    },
    {
     "name": "stderr",
     "output_type": "stream",
     "text": [
      "Training: 100%|██████████████████████████████████████████████████████████████████████████████████████████████████████████████████████████████████████████████████████████████████████████████████| 222/222 [00:13<00:00, 16.85it/s]\n"
     ]
    },
    {
     "name": "stdout",
     "output_type": "stream",
     "text": [
      "Epoch: 7, Mean loss: 0.263087560666037\n"
     ]
    },
    {
     "name": "stderr",
     "output_type": "stream",
     "text": [
      "Validation: 100%|██████████████████████████████████████████████████████████████████████████████████████████████████████████████████████████████████████████████████████████████████████████████████| 14/14 [00:00<00:00, 25.88it/s]\n"
     ]
    },
    {
     "name": "stdout",
     "output_type": "stream",
     "text": [
      "Mean Val loss: 0.5199924877711705\n"
     ]
    },
    {
     "name": "stderr",
     "output_type": "stream",
     "text": [
      "Training: 100%|██████████████████████████████████████████████████████████████████████████████████████████████████████████████████████████████████████████████████████████████████████████████████| 222/222 [00:13<00:00, 16.89it/s]\n"
     ]
    },
    {
     "name": "stdout",
     "output_type": "stream",
     "text": [
      "Epoch: 8, Mean loss: 0.24655021163257382\n"
     ]
    },
    {
     "name": "stderr",
     "output_type": "stream",
     "text": [
      "Validation: 100%|██████████████████████████████████████████████████████████████████████████████████████████████████████████████████████████████████████████████████████████████████████████████████| 14/14 [00:00<00:00, 26.08it/s]\n"
     ]
    },
    {
     "name": "stdout",
     "output_type": "stream",
     "text": [
      "Mean Val loss: 0.527077195899827\n"
     ]
    },
    {
     "name": "stderr",
     "output_type": "stream",
     "text": [
      "Training: 100%|██████████████████████████████████████████████████████████████████████████████████████████████████████████████████████████████████████████████████████████████████████████████████| 222/222 [00:13<00:00, 16.96it/s]\n"
     ]
    },
    {
     "name": "stdout",
     "output_type": "stream",
     "text": [
      "Epoch: 9, Mean loss: 0.23777505829259085\n"
     ]
    },
    {
     "name": "stderr",
     "output_type": "stream",
     "text": [
      "Validation: 100%|██████████████████████████████████████████████████████████████████████████████████████████████████████████████████████████████████████████████████████████████████████████████████| 14/14 [00:00<00:00, 25.55it/s]\n"
     ]
    },
    {
     "name": "stdout",
     "output_type": "stream",
     "text": [
      "Mean Val loss: 0.5276283025741576\n"
     ]
    },
    {
     "name": "stderr",
     "output_type": "stream",
     "text": [
      "100%|███████████████████████████████████████████████████████████████████████████████████████████████████████████████████████████████████████████████████████████████████████████████████████████| 886/886 [00:01<00:00, 464.96it/s]\n"
     ]
    },
    {
     "name": "stdout",
     "output_type": "stream",
     "text": [
      "           corporation  creative_work       event       group    location  \\\n",
      "precision     0.477352       0.384892    0.320513    0.536866    0.556818   \n",
      "recall        0.450658       0.379433    0.322997    0.513216    0.581028   \n",
      "f1            0.463621       0.382143    0.321750    0.524775    0.568665   \n",
      "number      304.000000     282.000000  387.000000  454.000000  253.000000   \n",
      "\n",
      "               person     product  \n",
      "precision    0.818599    0.661238  \n",
      "recall       0.809308    0.578348  \n",
      "f1           0.813927    0.617021  \n",
      "number     881.000000  351.000000   \n",
      "\n",
      "       overall_precision  overall_recall  overall_f1  overall_accuracy\n",
      "Value           0.588131        0.571772    0.579836          0.906228\n"
     ]
    },
    {
     "data": {
      "image/png": "[encoded data removed]",
      "text/plain": [
       "<Figure size 1000x500 with 2 Axes>"
      ]
     },
     "metadata": {},
     "output_type": "display_data"
    }
   ],
   "source": [
    "model_name = \"distilbert/distilbert-base-cased\"\n",
    "save_path = \"distillbert_base_default_hp\"\n",
    "\n",
    "metrics_class, metrics_global = run_experiment(model_name, save_path, train_args)"
   ]
  },
  {
   "cell_type": "markdown",
   "id": "d8b6b218-0f9c-466a-9e0c-024ab6cbdc8f",
   "metadata": {},
   "source": [
    "#### Поскольку обе модели показывают переобучение (валидационный лосс начинает расти уже после 2 и 4 эпох) попробуем уменьшить количество эпох. Также, лосс падает довольно медленно, попробуем увеличить стартовый learning rate. Борьбе с переобучением может поспособствовать увеличенный weight decay."
   ]
  },
  {
   "cell_type": "code",
   "execution_count": 22,
   "id": "b9446dc3-b199-441d-93e0-1ac7e016ad15",
   "metadata": {},
   "outputs": [],
   "source": [
    "train_args = EasyDict({'lr': 1e-4, 'weight_decay': 0.05, 'epochs': 4, 'warmup_ratio': 0.0, 'scheduler_fn': get_linear_schedule_with_warmup})"
   ]
  },
  {
   "cell_type": "code",
   "execution_count": 23,
   "id": "d96f4d66-f225-4565-aadd-8582f114be35",
   "metadata": {},
   "outputs": [
    {
     "name": "stderr",
     "output_type": "stream",
     "text": [
      "Some weights of BertForTokenClassification were not initialized from the model checkpoint at google-bert/bert-base-cased and are newly initialized: ['classifier.bias', 'classifier.weight']\n",
      "You should probably TRAIN this model on a down-stream task to be able to use it for predictions and inference.\n"
     ]
    },
    {
     "name": "stdout",
     "output_type": "stream",
     "text": [
      "Found cached data in data\\bert_base_reduced_ep\\train_all_tokenized.csv\n",
      "Found cached data in data\\bert_base_reduced_ep\\val_all_tokenized.csv\n",
      "Start training\n"
     ]
    },
    {
     "name": "stderr",
     "output_type": "stream",
     "text": [
      "Training: 100%|██████████████████████████████████████████████████████████████████████████████████████████████████████████████████████████████████████████████████████████████████████████████████| 222/222 [00:26<00:00,  8.53it/s]\n"
     ]
    },
    {
     "name": "stdout",
     "output_type": "stream",
     "text": [
      "Epoch: 0, Mean loss: 0.5983409140561081\n"
     ]
    },
    {
     "name": "stderr",
     "output_type": "stream",
     "text": [
      "Validation: 100%|██████████████████████████████████████████████████████████████████████████████████████████████████████████████████████████████████████████████████████████████████████████████████| 14/14 [00:01<00:00, 13.23it/s]\n"
     ]
    },
    {
     "name": "stdout",
     "output_type": "stream",
     "text": [
      "Mean Val loss: 0.473966304744993\n"
     ]
    },
    {
     "name": "stderr",
     "output_type": "stream",
     "text": [
      "Training: 100%|██████████████████████████████████████████████████████████████████████████████████████████████████████████████████████████████████████████████████████████████████████████████████| 222/222 [00:25<00:00,  8.63it/s]\n"
     ]
    },
    {
     "name": "stdout",
     "output_type": "stream",
     "text": [
      "Epoch: 1, Mean loss: 0.3726750149114712\n"
     ]
    },
    {
     "name": "stderr",
     "output_type": "stream",
     "text": [
      "Validation: 100%|██████████████████████████████████████████████████████████████████████████████████████████████████████████████████████████████████████████████████████████████████████████████████| 14/14 [00:01<00:00, 13.15it/s]\n"
     ]
    },
    {
     "name": "stdout",
     "output_type": "stream",
     "text": [
      "Mean Val loss: 0.45934266916343136\n"
     ]
    },
    {
     "name": "stderr",
     "output_type": "stream",
     "text": [
      "Training: 100%|██████████████████████████████████████████████████████████████████████████████████████████████████████████████████████████████████████████████████████████████████████████████████| 222/222 [00:25<00:00,  8.60it/s]\n"
     ]
    },
    {
     "name": "stdout",
     "output_type": "stream",
     "text": [
      "Epoch: 2, Mean loss: 0.25534171107653014\n"
     ]
    },
    {
     "name": "stderr",
     "output_type": "stream",
     "text": [
      "Validation: 100%|██████████████████████████████████████████████████████████████████████████████████████████████████████████████████████████████████████████████████████████████████████████████████| 14/14 [00:01<00:00, 13.16it/s]\n"
     ]
    },
    {
     "name": "stdout",
     "output_type": "stream",
     "text": [
      "Mean Val loss: 0.4755181946924754\n"
     ]
    },
    {
     "name": "stderr",
     "output_type": "stream",
     "text": [
      "Training: 100%|██████████████████████████████████████████████████████████████████████████████████████████████████████████████████████████████████████████████████████████████████████████████████| 222/222 [00:25<00:00,  8.58it/s]\n"
     ]
    },
    {
     "name": "stdout",
     "output_type": "stream",
     "text": [
      "Epoch: 3, Mean loss: 0.17138229592426402\n"
     ]
    },
    {
     "name": "stderr",
     "output_type": "stream",
     "text": [
      "Validation: 100%|██████████████████████████████████████████████████████████████████████████████████████████████████████████████████████████████████████████████████████████████████████████████████| 14/14 [00:01<00:00, 13.14it/s]\n"
     ]
    },
    {
     "name": "stdout",
     "output_type": "stream",
     "text": [
      "Mean Val loss: 0.5275593123265676\n"
     ]
    },
    {
     "name": "stderr",
     "output_type": "stream",
     "text": [
      "100%|███████████████████████████████████████████████████████████████████████████████████████████████████████████████████████████████████████████████████████████████████████████████████████████| 886/886 [00:02<00:00, 358.31it/s]\n"
     ]
    },
    {
     "name": "stdout",
     "output_type": "stream",
     "text": [
      "           corporation  creative_work       event       group    location  \\\n",
      "precision     0.503226       0.424658    0.358354    0.549234    0.600760   \n",
      "recall        0.513158       0.439716    0.382429    0.552863    0.624506   \n",
      "f1            0.508143       0.432056    0.370000    0.551043    0.612403   \n",
      "number      304.000000     282.000000  387.000000  454.000000  253.000000   \n",
      "\n",
      "               person     product  \n",
      "precision    0.836009    0.638484  \n",
      "recall       0.827469    0.623932  \n",
      "f1           0.831717    0.631124  \n",
      "number     881.000000  351.000000   \n",
      "\n",
      "       overall_precision  overall_recall  overall_f1  overall_accuracy\n",
      "Value           0.605085        0.612981    0.609007          0.913402\n"
     ]
    },
    {
     "data": {
      "image/png": "[encoded data removed]",
      "text/plain": [
       "<Figure size 1000x500 with 2 Axes>"
      ]
     },
     "metadata": {},
     "output_type": "display_data"
    }
   ],
   "source": [
    "model_name = \"google-bert/bert-base-cased\"\n",
    "save_path = \"bert_base_reduced_ep\"\n",
    "\n",
    "metrics_class, metrics_global = run_experiment(model_name, save_path, train_args)"
   ]
  },
  {
   "cell_type": "code",
   "execution_count": 24,
   "id": "6bfb8edd-bbef-45f8-a91a-2b4c911709fb",
   "metadata": {},
   "outputs": [
    {
     "name": "stderr",
     "output_type": "stream",
     "text": [
      "Some weights of DistilBertForTokenClassification were not initialized from the model checkpoint at distilbert/distilbert-base-cased and are newly initialized: ['classifier.bias', 'classifier.weight']\n",
      "You should probably TRAIN this model on a down-stream task to be able to use it for predictions and inference.\n"
     ]
    },
    {
     "name": "stdout",
     "output_type": "stream",
     "text": [
      "Found cached data in data\\distillbert_base_reduced_ep\\train_all_tokenized.csv\n",
      "Found cached data in data\\distillbert_base_reduced_ep\\val_all_tokenized.csv\n",
      "Start training\n"
     ]
    },
    {
     "name": "stderr",
     "output_type": "stream",
     "text": [
      "Training: 100%|██████████████████████████████████████████████████████████████████████████████████████████████████████████████████████████████████████████████████████████████████████████████████| 222/222 [00:13<00:00, 16.49it/s]\n"
     ]
    },
    {
     "name": "stdout",
     "output_type": "stream",
     "text": [
      "Epoch: 0, Mean loss: 0.6585316917112285\n"
     ]
    },
    {
     "name": "stderr",
     "output_type": "stream",
     "text": [
      "Validation: 100%|██████████████████████████████████████████████████████████████████████████████████████████████████████████████████████████████████████████████████████████████████████████████████| 14/14 [00:00<00:00, 25.68it/s]\n"
     ]
    },
    {
     "name": "stdout",
     "output_type": "stream",
     "text": [
      "Mean Val loss: 0.4765963405370713\n"
     ]
    },
    {
     "name": "stderr",
     "output_type": "stream",
     "text": [
      "Training: 100%|██████████████████████████████████████████████████████████████████████████████████████████████████████████████████████████████████████████████████████████████████████████████████| 222/222 [00:13<00:00, 16.84it/s]\n"
     ]
    },
    {
     "name": "stdout",
     "output_type": "stream",
     "text": [
      "Epoch: 1, Mean loss: 0.4021264678454613\n"
     ]
    },
    {
     "name": "stderr",
     "output_type": "stream",
     "text": [
      "Validation: 100%|██████████████████████████████████████████████████████████████████████████████████████████████████████████████████████████████████████████████████████████████████████████████████| 14/14 [00:00<00:00, 26.08it/s]\n"
     ]
    },
    {
     "name": "stdout",
     "output_type": "stream",
     "text": [
      "Mean Val loss: 0.4649140919957842\n"
     ]
    },
    {
     "name": "stderr",
     "output_type": "stream",
     "text": [
      "Training: 100%|██████████████████████████████████████████████████████████████████████████████████████████████████████████████████████████████████████████████████████████████████████████████████| 222/222 [00:13<00:00, 16.88it/s]\n"
     ]
    },
    {
     "name": "stdout",
     "output_type": "stream",
     "text": [
      "Epoch: 2, Mean loss: 0.2822506345204405\n"
     ]
    },
    {
     "name": "stderr",
     "output_type": "stream",
     "text": [
      "Validation: 100%|██████████████████████████████████████████████████████████████████████████████████████████████████████████████████████████████████████████████████████████████████████████████████| 14/14 [00:00<00:00, 26.07it/s]\n"
     ]
    },
    {
     "name": "stdout",
     "output_type": "stream",
     "text": [
      "Mean Val loss: 0.49094201411519733\n"
     ]
    },
    {
     "name": "stderr",
     "output_type": "stream",
     "text": [
      "Training: 100%|██████████████████████████████████████████████████████████████████████████████████████████████████████████████████████████████████████████████████████████████████████████████████| 222/222 [00:13<00:00, 16.86it/s]\n"
     ]
    },
    {
     "name": "stdout",
     "output_type": "stream",
     "text": [
      "Epoch: 3, Mean loss: 0.20049010928686672\n"
     ]
    },
    {
     "name": "stderr",
     "output_type": "stream",
     "text": [
      "Validation: 100%|██████████████████████████████████████████████████████████████████████████████████████████████████████████████████████████████████████████████████████████████████████████████████| 14/14 [00:00<00:00, 25.91it/s]\n"
     ]
    },
    {
     "name": "stdout",
     "output_type": "stream",
     "text": [
      "Mean Val loss: 0.5230069458484651\n"
     ]
    },
    {
     "name": "stderr",
     "output_type": "stream",
     "text": [
      "100%|███████████████████████████████████████████████████████████████████████████████████████████████████████████████████████████████████████████████████████████████████████████████████████████| 886/886 [00:01<00:00, 659.27it/s]\n"
     ]
    },
    {
     "name": "stdout",
     "output_type": "stream",
     "text": [
      "           corporation  creative_work       event       group    location  \\\n",
      "precision     0.470588       0.403636    0.335092    0.560000    0.578358   \n",
      "recall        0.500000       0.393617    0.328165    0.524229    0.612648   \n",
      "f1            0.484848       0.398564    0.331593    0.541524    0.595010   \n",
      "number      304.000000     282.000000  387.000000  454.000000  253.000000   \n",
      "\n",
      "               person     product  \n",
      "precision    0.815029    0.662338  \n",
      "recall       0.800227    0.581197  \n",
      "f1           0.807560    0.619120  \n",
      "number     881.000000  351.000000   \n",
      "\n",
      "       overall_precision  overall_recall  overall_f1  overall_accuracy\n",
      "Value           0.595146        0.581044     0.58801          0.908523\n"
     ]
    },
    {
     "data": {
      "image/png": "[encoded data removed]",
      "text/plain": [
       "<Figure size 1000x500 with 2 Axes>"
      ]
     },
     "metadata": {},
     "output_type": "display_data"
    }
   ],
   "source": [
    "model_name = \"distilbert/distilbert-base-cased\"\n",
    "save_path = \"distillbert_base_reduced_ep\"\n",
    "\n",
    "metrics_class, metrics_global = run_experiment(model_name, save_path, train_args)"
   ]
  },
  {
   "cell_type": "markdown",
   "id": "aa1460ff-d1be-49b2-a94b-96d37cf88c65",
   "metadata": {},
   "source": [
    "#### С таким набором гиперпараметров переобучение наступает уже после 2 эпох, с улучшением полученных ранее метрик. Ограничим количество эпох 2-мя. Также, добавим warmup для того, чтобы уменьшить влияние пепрвых шагов обучения"
   ]
  },
  {
   "cell_type": "code",
   "execution_count": 25,
   "id": "7659e841-d86b-4369-a2eb-0f2f4e7f3086",
   "metadata": {},
   "outputs": [],
   "source": [
    "train_args = EasyDict({'lr': 1e-4, 'weight_decay': 0.05, 'epochs': 2, 'warmup_ratio': 0.3, 'scheduler_fn': get_linear_schedule_with_warmup})"
   ]
  },
  {
   "cell_type": "code",
   "execution_count": 26,
   "id": "d44e3b97-0f84-41e0-89a2-85b25a23e58c",
   "metadata": {},
   "outputs": [
    {
     "name": "stderr",
     "output_type": "stream",
     "text": [
      "Some weights of BertForTokenClassification were not initialized from the model checkpoint at google-bert/bert-base-cased and are newly initialized: ['classifier.bias', 'classifier.weight']\n",
      "You should probably TRAIN this model on a down-stream task to be able to use it for predictions and inference.\n"
     ]
    },
    {
     "name": "stdout",
     "output_type": "stream",
     "text": [
      "Found cached data in data\\bert_base_warmup\\train_all_tokenized.csv\n",
      "Found cached data in data\\bert_base_warmup\\val_all_tokenized.csv\n",
      "Start training\n"
     ]
    },
    {
     "name": "stderr",
     "output_type": "stream",
     "text": [
      "Training: 100%|██████████████████████████████████████████████████████████████████████████████████████████████████████████████████████████████████████████████████████████████████████████████████| 222/222 [00:26<00:00,  8.49it/s]\n"
     ]
    },
    {
     "name": "stdout",
     "output_type": "stream",
     "text": [
      "Epoch: 0, Mean loss: 0.8423160795155942\n"
     ]
    },
    {
     "name": "stderr",
     "output_type": "stream",
     "text": [
      "Validation: 100%|██████████████████████████████████████████████████████████████████████████████████████████████████████████████████████████████████████████████████████████████████████████████████| 14/14 [00:01<00:00, 13.18it/s]\n"
     ]
    },
    {
     "name": "stdout",
     "output_type": "stream",
     "text": [
      "Mean Val loss: 0.46935331395694185\n"
     ]
    },
    {
     "name": "stderr",
     "output_type": "stream",
     "text": [
      "Training: 100%|██████████████████████████████████████████████████████████████████████████████████████████████████████████████████████████████████████████████████████████████████████████████████| 222/222 [00:25<00:00,  8.59it/s]\n"
     ]
    },
    {
     "name": "stdout",
     "output_type": "stream",
     "text": [
      "Epoch: 1, Mean loss: 0.3884130725720982\n"
     ]
    },
    {
     "name": "stderr",
     "output_type": "stream",
     "text": [
      "Validation: 100%|██████████████████████████████████████████████████████████████████████████████████████████████████████████████████████████████████████████████████████████████████████████████████| 14/14 [00:01<00:00, 13.12it/s]\n"
     ]
    },
    {
     "name": "stdout",
     "output_type": "stream",
     "text": [
      "Mean Val loss: 0.4361064327614647\n"
     ]
    },
    {
     "name": "stderr",
     "output_type": "stream",
     "text": [
      "100%|███████████████████████████████████████████████████████████████████████████████████████████████████████████████████████████████████████████████████████████████████████████████████████████| 886/886 [00:02<00:00, 356.96it/s]\n"
     ]
    },
    {
     "name": "stdout",
     "output_type": "stream",
     "text": [
      "           corporation  creative_work       event       group    location  \\\n",
      "precision     0.532567       0.506276    0.398058    0.615578    0.599251   \n",
      "recall        0.457237       0.429078    0.317829    0.539648    0.632411   \n",
      "f1            0.492035       0.464491    0.353448    0.575117    0.615385   \n",
      "number      304.000000     282.000000  387.000000  454.000000  253.000000   \n",
      "\n",
      "               person     product  \n",
      "precision    0.835586    0.675497  \n",
      "recall       0.842225    0.581197  \n",
      "f1           0.838892    0.624809  \n",
      "number     881.000000  351.000000   \n",
      "\n",
      "       overall_precision  overall_recall  overall_f1  overall_accuracy\n",
      "Value           0.650901        0.595467    0.621951          0.916703\n"
     ]
    },
    {
     "data": {
      "image/png": "[encoded data removed]",
      "text/plain": [
       "<Figure size 1000x500 with 2 Axes>"
      ]
     },
     "metadata": {},
     "output_type": "display_data"
    }
   ],
   "source": [
    "model_name = \"google-bert/bert-base-cased\"\n",
    "save_path = \"bert_base_warmup\"\n",
    "\n",
    "metrics_class, metrics_global = run_experiment(model_name, save_path, train_args)"
   ]
  },
  {
   "cell_type": "code",
   "execution_count": 27,
   "id": "583529b2-6a33-4962-b15b-0b98ac9b1a7b",
   "metadata": {},
   "outputs": [
    {
     "name": "stderr",
     "output_type": "stream",
     "text": [
      "Some weights of DistilBertForTokenClassification were not initialized from the model checkpoint at distilbert/distilbert-base-cased and are newly initialized: ['classifier.bias', 'classifier.weight']\n",
      "You should probably TRAIN this model on a down-stream task to be able to use it for predictions and inference.\n"
     ]
    },
    {
     "name": "stdout",
     "output_type": "stream",
     "text": [
      "Found cached data in data\\distillbert_base_warmup\\train_all_tokenized.csv\n",
      "Found cached data in data\\distillbert_base_warmup\\val_all_tokenized.csv\n",
      "Start training\n"
     ]
    },
    {
     "name": "stderr",
     "output_type": "stream",
     "text": [
      "Training: 100%|██████████████████████████████████████████████████████████████████████████████████████████████████████████████████████████████████████████████████████████████████████████████████| 222/222 [00:13<00:00, 16.48it/s]\n"
     ]
    },
    {
     "name": "stdout",
     "output_type": "stream",
     "text": [
      "Epoch: 0, Mean loss: 0.8987893110459987\n"
     ]
    },
    {
     "name": "stderr",
     "output_type": "stream",
     "text": [
      "Validation: 100%|██████████████████████████████████████████████████████████████████████████████████████████████████████████████████████████████████████████████████████████████████████████████████| 14/14 [00:00<00:00, 25.98it/s]\n"
     ]
    },
    {
     "name": "stdout",
     "output_type": "stream",
     "text": [
      "Mean Val loss: 0.5064138493367605\n"
     ]
    },
    {
     "name": "stderr",
     "output_type": "stream",
     "text": [
      "Training: 100%|██████████████████████████████████████████████████████████████████████████████████████████████████████████████████████████████████████████████████████████████████████████████████| 222/222 [00:13<00:00, 16.94it/s]\n"
     ]
    },
    {
     "name": "stdout",
     "output_type": "stream",
     "text": [
      "Epoch: 1, Mean loss: 0.4199601358792802\n"
     ]
    },
    {
     "name": "stderr",
     "output_type": "stream",
     "text": [
      "Validation: 100%|██████████████████████████████████████████████████████████████████████████████████████████████████████████████████████████████████████████████████████████████████████████████████| 14/14 [00:00<00:00, 26.04it/s]\n"
     ]
    },
    {
     "name": "stdout",
     "output_type": "stream",
     "text": [
      "Mean Val loss: 0.4541189329964774\n"
     ]
    },
    {
     "name": "stderr",
     "output_type": "stream",
     "text": [
      "100%|███████████████████████████████████████████████████████████████████████████████████████████████████████████████████████████████████████████████████████████████████████████████████████████| 886/886 [00:01<00:00, 655.91it/s]\n"
     ]
    },
    {
     "name": "stdout",
     "output_type": "stream",
     "text": [
      "           corporation  creative_work       event       group    location  \\\n",
      "precision     0.516667       0.396825    0.393836    0.612903    0.584559   \n",
      "recall        0.407895       0.354610    0.297158    0.502203    0.628458   \n",
      "f1            0.455882       0.374532    0.338733    0.552058    0.605714   \n",
      "number      304.000000     282.000000  387.000000  454.000000  253.000000   \n",
      "\n",
      "               person     product  \n",
      "precision    0.817130    0.677083  \n",
      "recall       0.801362    0.555556  \n",
      "f1           0.809169    0.610329  \n",
      "number     881.000000  351.000000   \n",
      "\n",
      "       overall_precision  overall_recall  overall_f1  overall_accuracy\n",
      "Value            0.63062        0.558723    0.592498          0.910461\n"
     ]
    },
    {
     "data": {
      "image/png": "[encoded data removed]",
      "text/plain": [
       "<Figure size 1000x500 with 2 Axes>"
      ]
     },
     "metadata": {},
     "output_type": "display_data"
    }
   ],
   "source": [
    "model_name = \"distilbert/distilbert-base-cased\"\n",
    "save_path = \"distillbert_base_warmup\"\n",
    "\n",
    "metrics_class, metrics_global = run_experiment(model_name, save_path, train_args)"
   ]
  },
  {
   "cell_type": "markdown",
   "id": "be60b68e-b33d-4f94-ab77-04ef115cce9d",
   "metadata": {},
   "source": [
    "#### Метрики возросли ещё сильнее, всего за 2 эпохи модели достигают хороших резльтатов, сопоставимых с SOTA-моделями для данного датасета. \"google-bert/bert-base-cased\" показал себя лучше во всех экспериментах, в дальнейшем будет использоваться он."
   ]
  },
  {
   "cell_type": "markdown",
   "id": "40baf189-6327-4235-80df-c890c06ca91b",
   "metadata": {},
   "source": [
    "### Weighted loss\n",
    "#### Поскольку категории в нашем датасете распределены неравномерно, имеется сильный дисбаланс в метриках между классами. Попробуем использовать взвешенный лосс, для того, чтобы уменьшить влияние часто встречающихся категорий и увеличить влияние редких и плохопредсказываемых. Весами будут являться обратные значения метрик классов, полученные в ходе предыдущих экспериментов."
   ]
  },
  {
   "cell_type": "code",
   "execution_count": 28,
   "id": "fb616c4c-7ddb-4748-a205-355a2ff43abf",
   "metadata": {},
   "outputs": [
    {
     "data": {
      "application/vnd.jupyter.widget-view+json": {
       "model_id": "3f79b53b07d84fbfbb223fe2f1a8f41c",
       "version_major": 2,
       "version_minor": 0
      },
      "text/plain": [
       "Map:   0%|          | 0/7111 [00:00<?, ? examples/s]"
      ]
     },
     "metadata": {},
     "output_type": "display_data"
    },
    {
     "data": {
      "text/plain": [
       "{'B-corporation': 0.5441176470588235,\n",
       " 'B-creative_work': 0.6254681647940075,\n",
       " 'B-event': 0.6612665684830634,\n",
       " 'B-group': 0.4479418886198546,\n",
       " 'B-location': 0.39428571428571424,\n",
       " 'B-person': 0.19083094555873925,\n",
       " 'B-product': 0.3896713615023474,\n",
       " 'I-corporation': 0.5441176470588235,\n",
       " 'I-creative_work': 0.6254681647940075,\n",
       " 'I-event': 0.6612665684830634,\n",
       " 'I-group': 0.4479418886198546,\n",
       " 'I-location': 0.39428571428571424,\n",
       " 'I-person': 0.19083094555873925,\n",
       " 'I-product': 0.3896713615023474,\n",
       " 'O': 1.0}"
      ]
     },
     "execution_count": 28,
     "metadata": {},
     "output_type": "execute_result"
    }
   ],
   "source": [
    "from collections import OrderedDict\n",
    "\n",
    "\n",
    "labels_dict = dict(zip(labels_list, [0] * len(labels_list)))\n",
    "\n",
    "def count_labels(row):\n",
    "    for token in row['tags']:\n",
    "        if token in id_2_label:\n",
    "            labels_dict[id_2_label[token]] += 1\n",
    "\n",
    "train_dataset.map(count_labels)\n",
    "\n",
    "all_labels = sum(labels_dict.values())\n",
    "loss_weights = {k: (1 - metrics_class[k]['f1']).item() for k, v in labels_dict.items()}\n",
    "\n",
    "loss_weights = {k: loss_weights[k.split('-')[-1]] if k != 'O' else 1.0 for k in label_2_id.keys()}\n",
    "\n",
    "train_args = EasyDict({'lr': 1e-4, 'weight_decay': 0.05, 'epochs': 2, 'warmup_ratio': 0.3, 'scheduler_fn': get_linear_schedule_with_warmup, \n",
    "                       'loss_weights': torch.tensor(list(loss_weights.values()), device=device)})\n",
    "loss_weights"
   ]
  },
  {
   "cell_type": "code",
   "execution_count": 29,
   "id": "8af5857d-df7e-4e71-96d3-11e28b3637af",
   "metadata": {},
   "outputs": [
    {
     "name": "stderr",
     "output_type": "stream",
     "text": [
      "Some weights of BertForTokenClassification were not initialized from the model checkpoint at google-bert/bert-base-cased and are newly initialized: ['classifier.bias', 'classifier.weight']\n",
      "You should probably TRAIN this model on a down-stream task to be able to use it for predictions and inference.\n"
     ]
    },
    {
     "name": "stdout",
     "output_type": "stream",
     "text": [
      "Found cached data in data\\bert_base_best_weighted_loss\\train_all_tokenized.csv\n",
      "Found cached data in data\\bert_base_best_weighted_loss\\val_all_tokenized.csv\n",
      "Start training\n"
     ]
    },
    {
     "name": "stderr",
     "output_type": "stream",
     "text": [
      "Training: 100%|██████████████████████████████████████████████████████████████████████████████████████████████████████████████████████████████████████████████████████████████████████████████████| 222/222 [00:26<00:00,  8.53it/s]\n"
     ]
    },
    {
     "name": "stdout",
     "output_type": "stream",
     "text": [
      "Epoch: 0, Mean loss: 0.5855769307629479\n"
     ]
    },
    {
     "name": "stderr",
     "output_type": "stream",
     "text": [
      "Validation: 100%|██████████████████████████████████████████████████████████████████████████████████████████████████████████████████████████████████████████████████████████████████████████████████| 14/14 [00:01<00:00, 13.17it/s]\n"
     ]
    },
    {
     "name": "stdout",
     "output_type": "stream",
     "text": [
      "Mean Val loss: 0.308547420161111\n"
     ]
    },
    {
     "name": "stderr",
     "output_type": "stream",
     "text": [
      "Training: 100%|██████████████████████████████████████████████████████████████████████████████████████████████████████████████████████████████████████████████████████████████████████████████████| 222/222 [00:25<00:00,  8.62it/s]\n"
     ]
    },
    {
     "name": "stdout",
     "output_type": "stream",
     "text": [
      "Epoch: 1, Mean loss: 0.2587873833002268\n"
     ]
    },
    {
     "name": "stderr",
     "output_type": "stream",
     "text": [
      "Validation: 100%|██████████████████████████████████████████████████████████████████████████████████████████████████████████████████████████████████████████████████████████████████████████████████| 14/14 [00:01<00:00, 13.08it/s]\n"
     ]
    },
    {
     "name": "stdout",
     "output_type": "stream",
     "text": [
      "Mean Val loss: 0.2923018634319305\n"
     ]
    },
    {
     "name": "stderr",
     "output_type": "stream",
     "text": [
      "100%|███████████████████████████████████████████████████████████████████████████████████████████████████████████████████████████████████████████████████████████████████████████████████████████| 886/886 [00:02<00:00, 349.94it/s]\n"
     ]
    },
    {
     "name": "stdout",
     "output_type": "stream",
     "text": [
      "           corporation  creative_work       event       group    location  \\\n",
      "precision     0.511811       0.463320    0.451049    0.664740    0.609562   \n",
      "recall        0.427632       0.425532    0.333333    0.506608    0.604743   \n",
      "f1            0.465950       0.443623    0.383358    0.575000    0.607143   \n",
      "number      304.000000     282.000000  387.000000  454.000000  253.000000   \n",
      "\n",
      "               person     product  \n",
      "precision    0.888451    0.712177  \n",
      "recall       0.768445    0.549858  \n",
      "f1           0.824102    0.620579  \n",
      "number     881.000000  351.000000   \n",
      "\n",
      "       overall_precision  overall_recall  overall_f1  overall_accuracy\n",
      "Value           0.671881         0.56044    0.611122          0.916954\n"
     ]
    },
    {
     "data": {
      "image/png": "[encoded data removed]",
      "text/plain": [
       "<Figure size 1000x500 with 2 Axes>"
      ]
     },
     "metadata": {},
     "output_type": "display_data"
    }
   ],
   "source": [
    "model_name = \"google-bert/bert-base-cased\"\n",
    "save_path = \"bert_base_best_weighted_loss\"\n",
    "\n",
    "metrics_class, metrics_global = run_experiment(model_name, save_path, train_args)"
   ]
  },
  {
   "cell_type": "markdown",
   "id": "81dc3a67-14ed-40a1-9764-25ff5e2471b1",
   "metadata": {},
   "source": [
    "#### К сожалению, улучшить метрики при помощи взвешенного лосса не удалось, в некоторых категориях метрика улучшается, но, вместе с этим, падает в других"
   ]
  },
  {
   "cell_type": "markdown",
   "id": "7c4164d1-a857-4e47-9e0e-58a1bae9c449",
   "metadata": {},
   "source": [
    "### Extra information\n",
    "#### Как показал разведочный анализ, знание о части речи, к которой принадлежит токен может помочь определить его отношение к сущности. Добавим информацию о части речи в модель, создав дополнительные эмбеддинги."
   ]
  },
  {
   "cell_type": "code",
   "execution_count": 30,
   "id": "fab728bc-0297-403d-ba08-65bd293177c8",
   "metadata": {},
   "outputs": [],
   "source": [
    "def adjust_pos_labels(row):\n",
    "    pos_labels = []\n",
    "    for ind in row['word_inds']:\n",
    "        if ind is not None:\n",
    "            pos_labels.append(row['extra_labels'][ind])\n",
    "        else:\n",
    "            pos_labels.append(0)\n",
    "    return pos_labels\n",
    "\n",
    "train_with_pos = pd.read_csv('data/train_data_with_pos_tags.csv')['pos_tags']\n",
    "val_with_pos = pd.read_csv('data/val_data_with_pos_tags.csv')['pos_tags']\n",
    "\n",
    "pos_types = pd.read_csv('pos_tags.csv', header=None).iloc[:, 0]\n",
    "pos_2_id = {pos: i for i, pos in enumerate(pos_types)}\n",
    "\n",
    "transform = lambda row: [pos_2_id[elem] for elem in eval(row)]\n",
    "\n",
    "train_with_pos = train_with_pos.apply(transform)\n",
    "val_with_pos = val_with_pos.apply(transform)"
   ]
  },
  {
   "cell_type": "code",
   "execution_count": 31,
   "id": "822bbe64-4615-4d9b-8d48-c1a4277bbe40",
   "metadata": {},
   "outputs": [
    {
     "name": "stderr",
     "output_type": "stream",
     "text": [
      "Some weights of BertForTokenClassification were not initialized from the model checkpoint at google-bert/bert-base-cased and are newly initialized: ['classifier.bias', 'classifier.weight']\n",
      "You should probably TRAIN this model on a down-stream task to be able to use it for predictions and inference.\n"
     ]
    },
    {
     "name": "stdout",
     "output_type": "stream",
     "text": [
      "Found cached data in data\\bert_base_pos_tags\\train_all_tokenized.csv\n",
      "Found cached data in data\\bert_base_pos_tags\\val_all_tokenized.csv\n",
      "Start training\n"
     ]
    },
    {
     "name": "stderr",
     "output_type": "stream",
     "text": [
      "Training: 100%|██████████████████████████████████████████████████████████████████████████████████████████████████████████████████████████████████████████████████████████████████████████████████| 222/222 [00:26<00:00,  8.44it/s]\n"
     ]
    },
    {
     "name": "stdout",
     "output_type": "stream",
     "text": [
      "Epoch: 0, Mean loss: 0.8644822857401396\n"
     ]
    },
    {
     "name": "stderr",
     "output_type": "stream",
     "text": [
      "Validation: 100%|██████████████████████████████████████████████████████████████████████████████████████████████████████████████████████████████████████████████████████████████████████████████████| 14/14 [00:01<00:00, 12.99it/s]\n"
     ]
    },
    {
     "name": "stdout",
     "output_type": "stream",
     "text": [
      "Mean Val loss: 0.5179165112120765\n"
     ]
    },
    {
     "name": "stderr",
     "output_type": "stream",
     "text": [
      "Training: 100%|██████████████████████████████████████████████████████████████████████████████████████████████████████████████████████████████████████████████████████████████████████████████████| 222/222 [00:25<00:00,  8.54it/s]\n"
     ]
    },
    {
     "name": "stdout",
     "output_type": "stream",
     "text": [
      "Epoch: 1, Mean loss: 0.4562223197909089\n"
     ]
    },
    {
     "name": "stderr",
     "output_type": "stream",
     "text": [
      "Validation: 100%|██████████████████████████████████████████████████████████████████████████████████████████████████████████████████████████████████████████████████████████████████████████████████| 14/14 [00:01<00:00, 12.98it/s]\n"
     ]
    },
    {
     "name": "stdout",
     "output_type": "stream",
     "text": [
      "Mean Val loss: 0.45566555219037186\n"
     ]
    },
    {
     "name": "stderr",
     "output_type": "stream",
     "text": [
      "100%|███████████████████████████████████████████████████████████████████████████████████████████████████████████████████████████████████████████████████████████████████████████████████████████| 886/886 [00:02<00:00, 343.54it/s]\n"
     ]
    },
    {
     "name": "stdout",
     "output_type": "stream",
     "text": [
      "           corporation  creative_work       event       group    location  \\\n",
      "precision     0.542017       0.420000    0.361022    0.586902    0.562016   \n",
      "recall        0.424342       0.372340    0.291990    0.513216    0.573123   \n",
      "f1            0.476015       0.394737    0.322857    0.547591    0.567515   \n",
      "number      304.000000     282.000000  387.000000  454.000000  253.000000   \n",
      "\n",
      "               person     product  \n",
      "precision    0.815242    0.645161  \n",
      "recall       0.801362    0.569801  \n",
      "f1           0.808243    0.605144  \n",
      "number     881.000000  351.000000   \n",
      "\n",
      "       overall_precision  overall_recall  overall_f1  overall_accuracy\n",
      "Value           0.619681        0.560096    0.588384          0.911788\n"
     ]
    },
    {
     "data": {
      "image/png": "[encoded data removed]",
      "text/plain": [
       "<Figure size 1000x500 with 2 Axes>"
      ]
     },
     "metadata": {},
     "output_type": "display_data"
    }
   ],
   "source": [
    "training_args = EasyDict({'lr': 1e-4, 'weight_decay': 0.05, 'epochs': 2, 'warmup_ratio': 0.3, 'scheduler_fn': get_linear_schedule_with_warmup})\n",
    "\n",
    "save_path = 'bert_base_pos_tags'\n",
    "model_name = \"google-bert/bert-base-cased\"\n",
    "\n",
    "model, tokenizer = get_model_and_tokenizer(model_name, extra_labels=len(pos_types))\n",
    "    \n",
    "train_dataset_tokenized, val_dataset_tokenized = create_datasets(tokenizer, save_path)\n",
    "\n",
    "train_dataset_tokenized['extra_labels'] = train_with_pos\n",
    "val_dataset_tokenized['extra_labels'] = val_with_pos\n",
    "\n",
    "train_dataset_tokenized['extra_labels'] = train_dataset_tokenized.apply(adjust_pos_labels, axis=1)\n",
    "val_dataset_tokenized['extra_labels'] = val_dataset_tokenized.apply(adjust_pos_labels, axis=1)\n",
    "\n",
    "train_ner_dataset = NERDataset(train_dataset_tokenized, extra_labels=True)\n",
    "val_ner_dataset = NERDataset(val_dataset_tokenized, extra_labels=True)\n",
    "\n",
    "train_dataloader, val_dataloader = get_dataloaders(tokenizer, train_ner_dataset, val_ner_dataset)\n",
    "losses, val_losses = train(model, train_dataloader, val_dataloader, save_path, training_args)\n",
    "\n",
    "plot_loss(losses, val_losses, os.path.join('checkpoints', save_path))\n",
    "    \n",
    "best_model = torch.load(os.path.join('checkpoints', save_path, 'best_model.pth'), weights_only=False).to(device).eval()\n",
    "model_preds = infer_model(best_model, tokenizer, val_ner_dataset, val_dataset_tokenized['word_inds'])\n",
    "metrics_class, metrics_global = calculate_metrics(model_preds, val_dataset['bio_labels'])"
   ]
  },
  {
   "cell_type": "markdown",
   "id": "370d19f2-caeb-4c72-abaf-2644f180914c",
   "metadata": {},
   "source": [
    "#### Частеречная характеристика не помогла улучшить результат модели, а лишь ухудшила. Это может быть связано с появлением новых обучаемых параметров, подвергнувших модель переобучению (хоть оно и не наблюдается явно, валидационный лосс выше, по сравнению с лучшим экспериментом)."
   ]
  },
  {
   "cell_type": "markdown",
   "id": "2bf72205-2504-4d4e-a8c0-13c19111da1f",
   "metadata": {},
   "source": [
    "### Summary"
   ]
  },
  {
   "cell_type": "code",
   "execution_count": 48,
   "id": "6747762f-23b3-420f-ac31-b2e1b84160c9",
   "metadata": {},
   "outputs": [
    {
     "data": {
      "image/png": "[encoded data removed]",
      "text/plain": [
       "<Figure size 1500x500 with 2 Axes>"
      ]
     },
     "metadata": {},
     "output_type": "display_data"
    }
   ],
   "source": [
    "fig, axes = plt.subplots(1, 2, figsize=(15, 5))\n",
    "\n",
    "epochs = list(range(1, 11))\n",
    "for k, (losses, val_losses) in all_experiments.items():\n",
    "    num_epochs = len(losses)\n",
    "    if k.startswith('bert'):\n",
    "        style = \"solid\" if k == 'bert_base_warmup' else 'dashed'\n",
    "        axes[0].plot(epochs[:num_epochs], losses, label=k, linestyle=style)\n",
    "        axes[1].plot(epochs[:num_epochs], val_losses, label=k, linestyle=style)\n",
    "    \n",
    "axes[0].set_xlabel('Epoch')\n",
    "axes[0].set_ylabel('Training Loss')\n",
    "axes[1].set_xlabel('Epoch')\n",
    "axes[1].set_ylabel('Validation Loss')\n",
    "\n",
    "plt.legend()\n",
    "axes[0].grid()\n",
    "axes[1].grid()"
   ]
  },
  {
   "cell_type": "markdown",
   "id": "7a545f5f-7502-48fe-a380-e69051a4361a",
   "metadata": {},
   "source": [
    "## Category analisys"
   ]
  },
  {
   "cell_type": "code",
   "execution_count": 8,
   "id": "c209b1a6-d22e-418d-994d-bacefef8b181",
   "metadata": {},
   "outputs": [
    {
     "name": "stderr",
     "output_type": "stream",
     "text": [
      "Device set to use cuda:0\n",
      "You seem to be using the pipelines sequentially on GPU. In order to maximize efficiency please use a dataset\n"
     ]
    },
    {
     "data": {
      "text/plain": [
       "<BarContainer object of 6 artists>"
      ]
     },
     "execution_count": 8,
     "metadata": {},
     "output_type": "execute_result"
    },
    {
     "data": {
      "image/png": "[encoded data removed]",
      "text/plain": [
       "<Figure size 640x480 with 1 Axes>"
      ]
     },
     "metadata": {},
     "output_type": "display_data"
    }
   ],
   "source": [
    "import numpy as np\n",
    "from transformers import AutoModelForSequenceClassification, pipeline\n",
    "from collections import Counter\n",
    "\n",
    "\n",
    "def preprocess(text):\n",
    "    new_text = []\n",
    "    for t in text.split(\" \"):\n",
    "        t = '@user' if t.startswith('{@') or t == \"{{USERNAME}}\" and len(t) > 1 else t\n",
    "        t = 'http' if t.startswith('http') or t == \"{{URL}}\" else t\n",
    "        new_text.append(t)\n",
    "    return \" \".join(new_text)\n",
    "\n",
    "model_name = \"cardiffnlp/roberta-base-tweet-topic-single-all\"\n",
    "sentiment_task = pipeline(\"text-classification\", model=model_name, tokenizer=model_name)\n",
    "\n",
    "categ_preds = []\n",
    "categ_scores = []\n",
    "for row in test_dataset['tokens']:\n",
    "    pred = sentiment_task(preprocess(' '.join(row)))[0]\n",
    "    categ_preds.append(pred['label'])\n",
    "    categ_scores.append(pred['score'])\n",
    "    #print(' '.join(row), pred['label'])\n",
    "\n",
    "hist = Counter(categ_preds)\n",
    "plt.bar(hist.keys(), hist.values())"
   ]
  },
  {
   "cell_type": "markdown",
   "id": "15b9621e-86cd-4d9f-b386-4928fd5876d9",
   "metadata": {},
   "source": [
    "## Sentiment analisys"
   ]
  },
  {
   "cell_type": "code",
   "execution_count": 35,
   "id": "99c232e7-5c9f-4ae2-ab91-090ae9fd484f",
   "metadata": {},
   "outputs": [
    {
     "name": "stderr",
     "output_type": "stream",
     "text": [
      "Some weights of the model checkpoint at cardiffnlp/twitter-roberta-base-sentiment-latest were not used when initializing RobertaForSequenceClassification: ['roberta.pooler.dense.bias', 'roberta.pooler.dense.weight']\n",
      "- This IS expected if you are initializing RobertaForSequenceClassification from the checkpoint of a model trained on another task or with another architecture (e.g. initializing a BertForSequenceClassification model from a BertForPreTraining model).\n",
      "- This IS NOT expected if you are initializing RobertaForSequenceClassification from the checkpoint of a model that you expect to be exactly identical (initializing a BertForSequenceClassification model from a BertForSequenceClassification model).\n",
      "Device set to use cuda:0\n"
     ]
    },
    {
     "data": {
      "text/plain": [
       "<BarContainer object of 3 artists>"
      ]
     },
     "execution_count": 35,
     "metadata": {},
     "output_type": "execute_result"
    },
    {
     "data": {
      "image/png": "[encoded data removed]",
      "text/plain": [
       "<Figure size 640x480 with 1 Axes>"
      ]
     },
     "metadata": {},
     "output_type": "display_data"
    }
   ],
   "source": [
    "from transformers import pipeline\n",
    "from collections import Counter\n",
    "\n",
    "\n",
    "def preprocess(text):\n",
    "    new_text = []\n",
    "    for t in text.split(\" \"):\n",
    "        t = '@user' if t.startswith('@') and len(t) > 1 else t\n",
    "        t = 'http' if t.startswith('http') else t\n",
    "        new_text.append(t)\n",
    "    return \" \".join(new_text)\n",
    "\n",
    "model_name = \"cardiffnlp/twitter-roberta-base-sentiment-latest\"\n",
    "\n",
    "sentiment_task = pipeline(\"sentiment-analysis\", model=model_name, tokenizer=model_name)\n",
    "\n",
    "sentiment_preds = []\n",
    "for row in test_dataset['tokens']:\n",
    "    pred = sentiment_task(preprocess(' '.join(row)))[0]\n",
    "    sentiment_preds.append(pred['label'])\n",
    "\n",
    "hist = Counter(sentiment_preds)\n",
    "plt.bar(hist.keys(), hist.values())"
   ]
  },
  {
   "cell_type": "markdown",
   "id": "c5623308-a0e4-4c6d-a282-944b153e4aae",
   "metadata": {},
   "source": [
    "## Labeled dataset generation example"
   ]
  },
  {
   "cell_type": "code",
   "execution_count": 36,
   "id": "e9df5ccd-5ad8-4932-8312-3be611572242",
   "metadata": {},
   "outputs": [
    {
     "name": "stdout",
     "output_type": "stream",
     "text": [
      "Found cached data in data\\bert_base_warmup\\test_all_tokenized.csv\n"
     ]
    },
    {
     "name": "stderr",
     "output_type": "stream",
     "text": [
      "100%|█████████████████████████████████████████████████████████████████████████████████████████████████████████████████████████████████████████████████████████████████████████████████████████| 3383/3383 [00:09<00:00, 354.87it/s]\n"
     ]
    },
    {
     "name": "stdout",
     "output_type": "stream",
     "text": [
      "           corporation  creative_work        event        group    location  \\\n",
      "precision     0.491403       0.362087     0.468408     0.601319    0.616424   \n",
      "recall        0.502778       0.376940     0.409426     0.551705    0.676169   \n",
      "f1            0.497025       0.369364     0.436935     0.575445    0.644916   \n",
      "number     1080.000000     902.000000  1358.000000  1818.000000  877.000000   \n",
      "\n",
      "                person      product  \n",
      "precision     0.798322     0.654464  \n",
      "recall        0.838092     0.618565  \n",
      "f1            0.817724     0.636009  \n",
      "number     3292.000000  1185.000000   \n",
      "\n",
      "       overall_precision  overall_recall  overall_f1  overall_accuracy\n",
      "Value           0.625371        0.620909    0.623132          0.922029\n"
     ]
    }
   ],
   "source": [
    "save_path = \"bert_base_warmup\"\n",
    "\n",
    "ner_model = torch.load(os.path.join('checkpoints', save_path, 'best_model.pth'), weights_only=False).to(device).eval()\n",
    "ner_tokenizer = AutoTokenizer.from_pretrained(model_name, trust_remote_code=True, clean_up_tokenization_spaces=False)\n",
    "ner_tokenizer.add_tokens([\"{{URL}}\", \"{{USERNAME}}\", \"{@\", \"@}\"])\n",
    "\n",
    "test_dataset_tokenized = create_dataset(test_dataset, os.path.join(CACHE_DIR, save_path, 'test_all_tokenized.csv'), ner_tokenizer, max_len=128)\n",
    "test_ner_dataset = NERDataset(test_dataset_tokenized)\n",
    "\n",
    "model_preds = infer_model(ner_model, ner_tokenizer, test_ner_dataset, test_dataset_tokenized['word_inds'])\n",
    "metrics_class, metrics_global = calculate_metrics(model_preds, test_dataset['bio_labels'])"
   ]
  },
  {
   "cell_type": "code",
   "execution_count": 37,
   "id": "a1ea299c-461c-40f7-9f73-c9f287cd1c87",
   "metadata": {},
   "outputs": [],
   "source": [
    "test_data_pd = test_dataset.to_pandas()\n",
    "test_data_pd.drop(columns=['tags', 'bio_labels'], inplace=True)\n",
    "test_data_pd['NER_labels'] = model_preds\n",
    "test_data_pd['sentiment_labels'] = sentiment_preds\n",
    "test_data_pd['categ_labels'] = categ_preds\n",
    "test_data_pd.to_csv('labeled_dataset.csv')"
   ]
  },
  {
   "cell_type": "code",
   "execution_count": 13,
   "id": "60de7f2d-3529-4164-b8da-6a6fe7f532b2",
   "metadata": {},
   "outputs": [],
   "source": [
    "test_dataset.to_csv('data/sorted_labeled_dataset.csv', index=False)"
   ]
  },
  {
   "cell_type": "code",
   "execution_count": null,
   "id": "fe826a5e-2d0f-446e-a54c-8252fdd08f8f",
   "metadata": {},
   "outputs": [],
   "source": []
  }
 ],
 "metadata": {
  "kernelspec": {
   "display_name": "Python 3 (ipykernel)",
   "language": "python",
   "name": "python3"
  },
  "language_info": {
   "codemirror_mode": {
    "name": "ipython",
    "version": 3
   },
   "file_extension": ".py",
   "mimetype": "text/x-python",
   "name": "python",
   "nbconvert_exporter": "python",
   "pygments_lexer": "ipython3",
   "version": "3.10.11"
  }
 },
 "nbformat": 4,
 "nbformat_minor": 5
}
