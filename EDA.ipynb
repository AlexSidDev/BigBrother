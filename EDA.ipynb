{
 "cells": [
  {
   "cell_type": "code",
   "execution_count": 21,
   "id": "3c648478-ee1b-49ff-b4b7-dc1025132b21",
   "metadata": {},
   "outputs": [],
   "source": [
    "import pandas as pd\n",
    "import datasets\n",
    "from transformers import AutoTokenizer\n",
    "from backend.data_utils import create_dataset\n",
    "\n",
    "\n",
    "CACHE_DIR = 'data'\n",
    "model_name = \"google-bert/bert-base-cased\""
   ]
  },
  {
   "cell_type": "markdown",
   "id": "7150313e-9b0a-4b25-80e6-9b16d6dbc9a2",
   "metadata": {},
   "source": [
    "## Loading datasets"
   ]
  },
  {
   "cell_type": "code",
   "execution_count": 22,
   "id": "cf9e80e5-1747-4cfe-bae0-e81ce4c5bfad",
   "metadata": {},
   "outputs": [],
   "source": [
    "all_datasets = datasets.load_dataset('tner/tweetner7', cache_dir=CACHE_DIR)\n",
    "val_dataset = datasets.concatenate_datasets([all_datasets[ 'validation_2020'], all_datasets['validation_2021']])\n",
    "test_dataset = datasets.concatenate_datasets([all_datasets[ 'test_2020'], all_datasets['test_2021']])"
   ]
  },
  {
   "cell_type": "code",
   "execution_count": 23,
   "id": "fe47864f-91f3-4607-91bd-4f6455c2b816",
   "metadata": {},
   "outputs": [
    {
     "name": "stdout",
     "output_type": "stream",
     "text": [
      "Found cached data in data/train_all_tokenized.csv\n",
      "Start data processing...\n",
      "Start data processing...\n"
     ]
    }
   ],
   "source": [
    "tokenizer = AutoTokenizer.from_pretrained(model_name, trust_remote_code=True)\n",
    "label_2_id = {\n",
    "                 \"B-corporation\": 0,\n",
    "                 \"B-creative_work\": 1,\n",
    "                 \"B-event\": 2,\n",
    "                 \"B-group\": 3,\n",
    "                 \"B-location\": 4,\n",
    "                 \"B-person\": 5,\n",
    "                 \"B-product\": 6,\n",
    "                 \"I-corporation\": 7,\n",
    "                 \"I-creative_work\": 8,\n",
    "                 \"I-event\": 9,\n",
    "                 \"I-group\": 10,\n",
    "                 \"I-location\": 11,\n",
    "                 \"I-person\": 12,\n",
    "                 \"I-product\": 13,\n",
    "                 \"O\": 14\n",
    "             }\n",
    "\n",
    "train_dataset = create_dataset(all_datasets['train_all'], f'{CACHE_DIR}/train_all_tokenized.csv', tokenizer, max_len=512)\n",
    "val_dataset = create_dataset(val_dataset, f'{CACHE_DIR}/val_all_tokenized.csv', tokenizer, max_len=512)\n",
    "test_dataset = create_dataset(test_dataset, f'{CACHE_DIR}/test_all_tokenized.csv', tokenizer, max_len=512)"
   ]
  },
  {
   "cell_type": "markdown",
   "id": "aa4c5674-3b63-4a9f-b744-40b926a5bca6",
   "metadata": {},
   "source": []
  }
 ],
 "metadata": {
  "kernelspec": {
   "display_name": "Python 3 (ipykernel)",
   "language": "python",
   "name": "python3"
  },
  "language_info": {
   "codemirror_mode": {
    "name": "ipython",
    "version": 3
   },
   "file_extension": ".py",
   "mimetype": "text/x-python",
   "name": "python",
   "nbconvert_exporter": "python",
   "pygments_lexer": "ipython3",
   "version": "3.13.1"
  }
 },
 "nbformat": 4,
 "nbformat_minor": 5
}
